{
 "cells": [
  {
   "cell_type": "markdown",
   "id": "c3d96a34",
   "metadata": {},
   "source": [
    "# **Problem Statement**\n",
    "\n",
    "Help an Indian multinational ridesharing company, predict whether a driver will be leaving the company or not based on their attributes like Demographics (city, age, gender etc.), Tenure information (joining date, Last Date) and Historical data regarding the performance of the driver (Quarterly rating, Monthly business acquired, grade, Income). Also, provide actionable Insights & Recommendations to retain drivers since the high churn among drivers could become a bigger problem as the companies get bigger."
   ]
  },
  {
   "cell_type": "code",
   "execution_count": 1024,
   "id": "400a2c53",
   "metadata": {},
   "outputs": [],
   "source": [
    "#importing required libraries\n",
    "\n",
    "import numpy as np\n",
    "import pandas as pd\n",
    "import matplotlib.pyplot as plt\n",
    "import seaborn as sns"
   ]
  },
  {
   "cell_type": "code",
   "execution_count": 1025,
   "id": "3998c26f",
   "metadata": {},
   "outputs": [],
   "source": [
    "#importing data set\n",
    "\n",
    "data = pd.read_csv('driver.csv')"
   ]
  },
  {
   "cell_type": "code",
   "execution_count": 1026,
   "id": "cd37e4fd",
   "metadata": {},
   "outputs": [
    {
     "data": {
      "text/html": [
       "<div>\n",
       "<style scoped>\n",
       "    .dataframe tbody tr th:only-of-type {\n",
       "        vertical-align: middle;\n",
       "    }\n",
       "\n",
       "    .dataframe tbody tr th {\n",
       "        vertical-align: top;\n",
       "    }\n",
       "\n",
       "    .dataframe thead th {\n",
       "        text-align: right;\n",
       "    }\n",
       "</style>\n",
       "<table border=\"1\" class=\"dataframe\">\n",
       "  <thead>\n",
       "    <tr style=\"text-align: right;\">\n",
       "      <th></th>\n",
       "      <th>Unnamed: 0</th>\n",
       "      <th>MMM-YY</th>\n",
       "      <th>Driver_ID</th>\n",
       "      <th>Age</th>\n",
       "      <th>Gender</th>\n",
       "      <th>City</th>\n",
       "      <th>Education_Level</th>\n",
       "      <th>Income</th>\n",
       "      <th>Dateofjoining</th>\n",
       "      <th>LastWorkingDate</th>\n",
       "      <th>Joining Designation</th>\n",
       "      <th>Grade</th>\n",
       "      <th>Total Business Value</th>\n",
       "      <th>Quarterly Rating</th>\n",
       "    </tr>\n",
       "  </thead>\n",
       "  <tbody>\n",
       "    <tr>\n",
       "      <th>0</th>\n",
       "      <td>0</td>\n",
       "      <td>01/01/19</td>\n",
       "      <td>1</td>\n",
       "      <td>28.0</td>\n",
       "      <td>0.0</td>\n",
       "      <td>C23</td>\n",
       "      <td>2</td>\n",
       "      <td>57387</td>\n",
       "      <td>24/12/18</td>\n",
       "      <td>NaN</td>\n",
       "      <td>1</td>\n",
       "      <td>1</td>\n",
       "      <td>2381060</td>\n",
       "      <td>2</td>\n",
       "    </tr>\n",
       "    <tr>\n",
       "      <th>1</th>\n",
       "      <td>1</td>\n",
       "      <td>02/01/19</td>\n",
       "      <td>1</td>\n",
       "      <td>28.0</td>\n",
       "      <td>0.0</td>\n",
       "      <td>C23</td>\n",
       "      <td>2</td>\n",
       "      <td>57387</td>\n",
       "      <td>24/12/18</td>\n",
       "      <td>NaN</td>\n",
       "      <td>1</td>\n",
       "      <td>1</td>\n",
       "      <td>-665480</td>\n",
       "      <td>2</td>\n",
       "    </tr>\n",
       "    <tr>\n",
       "      <th>2</th>\n",
       "      <td>2</td>\n",
       "      <td>03/01/19</td>\n",
       "      <td>1</td>\n",
       "      <td>28.0</td>\n",
       "      <td>0.0</td>\n",
       "      <td>C23</td>\n",
       "      <td>2</td>\n",
       "      <td>57387</td>\n",
       "      <td>24/12/18</td>\n",
       "      <td>03/11/19</td>\n",
       "      <td>1</td>\n",
       "      <td>1</td>\n",
       "      <td>0</td>\n",
       "      <td>2</td>\n",
       "    </tr>\n",
       "    <tr>\n",
       "      <th>3</th>\n",
       "      <td>3</td>\n",
       "      <td>11/01/20</td>\n",
       "      <td>2</td>\n",
       "      <td>31.0</td>\n",
       "      <td>0.0</td>\n",
       "      <td>C7</td>\n",
       "      <td>2</td>\n",
       "      <td>67016</td>\n",
       "      <td>11/06/20</td>\n",
       "      <td>NaN</td>\n",
       "      <td>2</td>\n",
       "      <td>2</td>\n",
       "      <td>0</td>\n",
       "      <td>1</td>\n",
       "    </tr>\n",
       "    <tr>\n",
       "      <th>4</th>\n",
       "      <td>4</td>\n",
       "      <td>12/01/20</td>\n",
       "      <td>2</td>\n",
       "      <td>31.0</td>\n",
       "      <td>0.0</td>\n",
       "      <td>C7</td>\n",
       "      <td>2</td>\n",
       "      <td>67016</td>\n",
       "      <td>11/06/20</td>\n",
       "      <td>NaN</td>\n",
       "      <td>2</td>\n",
       "      <td>2</td>\n",
       "      <td>0</td>\n",
       "      <td>1</td>\n",
       "    </tr>\n",
       "  </tbody>\n",
       "</table>\n",
       "</div>"
      ],
      "text/plain": [
       "   Unnamed: 0    MMM-YY  Driver_ID   Age  Gender City  Education_Level  \\\n",
       "0           0  01/01/19          1  28.0     0.0  C23                2   \n",
       "1           1  02/01/19          1  28.0     0.0  C23                2   \n",
       "2           2  03/01/19          1  28.0     0.0  C23                2   \n",
       "3           3  11/01/20          2  31.0     0.0   C7                2   \n",
       "4           4  12/01/20          2  31.0     0.0   C7                2   \n",
       "\n",
       "   Income Dateofjoining LastWorkingDate  Joining Designation  Grade  \\\n",
       "0   57387      24/12/18             NaN                    1      1   \n",
       "1   57387      24/12/18             NaN                    1      1   \n",
       "2   57387      24/12/18        03/11/19                    1      1   \n",
       "3   67016      11/06/20             NaN                    2      2   \n",
       "4   67016      11/06/20             NaN                    2      2   \n",
       "\n",
       "   Total Business Value  Quarterly Rating  \n",
       "0               2381060                 2  \n",
       "1               -665480                 2  \n",
       "2                     0                 2  \n",
       "3                     0                 1  \n",
       "4                     0                 1  "
      ]
     },
     "execution_count": 1026,
     "metadata": {},
     "output_type": "execute_result"
    }
   ],
   "source": [
    "data.head()"
   ]
  },
  {
   "cell_type": "code",
   "execution_count": 1027,
   "id": "c367cc54",
   "metadata": {},
   "outputs": [
    {
     "data": {
      "text/html": [
       "<div>\n",
       "<style scoped>\n",
       "    .dataframe tbody tr th:only-of-type {\n",
       "        vertical-align: middle;\n",
       "    }\n",
       "\n",
       "    .dataframe tbody tr th {\n",
       "        vertical-align: top;\n",
       "    }\n",
       "\n",
       "    .dataframe thead th {\n",
       "        text-align: right;\n",
       "    }\n",
       "</style>\n",
       "<table border=\"1\" class=\"dataframe\">\n",
       "  <thead>\n",
       "    <tr style=\"text-align: right;\">\n",
       "      <th></th>\n",
       "      <th>Unnamed: 0</th>\n",
       "      <th>MMM-YY</th>\n",
       "      <th>Driver_ID</th>\n",
       "      <th>Age</th>\n",
       "      <th>Gender</th>\n",
       "      <th>City</th>\n",
       "      <th>Education_Level</th>\n",
       "      <th>Income</th>\n",
       "      <th>Dateofjoining</th>\n",
       "      <th>LastWorkingDate</th>\n",
       "      <th>Joining Designation</th>\n",
       "      <th>Grade</th>\n",
       "      <th>Total Business Value</th>\n",
       "      <th>Quarterly Rating</th>\n",
       "    </tr>\n",
       "  </thead>\n",
       "  <tbody>\n",
       "    <tr>\n",
       "      <th>19099</th>\n",
       "      <td>19099</td>\n",
       "      <td>08/01/20</td>\n",
       "      <td>2788</td>\n",
       "      <td>30.0</td>\n",
       "      <td>0.0</td>\n",
       "      <td>C27</td>\n",
       "      <td>2</td>\n",
       "      <td>70254</td>\n",
       "      <td>06/08/20</td>\n",
       "      <td>NaN</td>\n",
       "      <td>2</td>\n",
       "      <td>2</td>\n",
       "      <td>740280</td>\n",
       "      <td>3</td>\n",
       "    </tr>\n",
       "    <tr>\n",
       "      <th>19100</th>\n",
       "      <td>19100</td>\n",
       "      <td>09/01/20</td>\n",
       "      <td>2788</td>\n",
       "      <td>30.0</td>\n",
       "      <td>0.0</td>\n",
       "      <td>C27</td>\n",
       "      <td>2</td>\n",
       "      <td>70254</td>\n",
       "      <td>06/08/20</td>\n",
       "      <td>NaN</td>\n",
       "      <td>2</td>\n",
       "      <td>2</td>\n",
       "      <td>448370</td>\n",
       "      <td>3</td>\n",
       "    </tr>\n",
       "    <tr>\n",
       "      <th>19101</th>\n",
       "      <td>19101</td>\n",
       "      <td>10/01/20</td>\n",
       "      <td>2788</td>\n",
       "      <td>30.0</td>\n",
       "      <td>0.0</td>\n",
       "      <td>C27</td>\n",
       "      <td>2</td>\n",
       "      <td>70254</td>\n",
       "      <td>06/08/20</td>\n",
       "      <td>NaN</td>\n",
       "      <td>2</td>\n",
       "      <td>2</td>\n",
       "      <td>0</td>\n",
       "      <td>2</td>\n",
       "    </tr>\n",
       "    <tr>\n",
       "      <th>19102</th>\n",
       "      <td>19102</td>\n",
       "      <td>11/01/20</td>\n",
       "      <td>2788</td>\n",
       "      <td>30.0</td>\n",
       "      <td>0.0</td>\n",
       "      <td>C27</td>\n",
       "      <td>2</td>\n",
       "      <td>70254</td>\n",
       "      <td>06/08/20</td>\n",
       "      <td>NaN</td>\n",
       "      <td>2</td>\n",
       "      <td>2</td>\n",
       "      <td>200420</td>\n",
       "      <td>2</td>\n",
       "    </tr>\n",
       "    <tr>\n",
       "      <th>19103</th>\n",
       "      <td>19103</td>\n",
       "      <td>12/01/20</td>\n",
       "      <td>2788</td>\n",
       "      <td>30.0</td>\n",
       "      <td>0.0</td>\n",
       "      <td>C27</td>\n",
       "      <td>2</td>\n",
       "      <td>70254</td>\n",
       "      <td>06/08/20</td>\n",
       "      <td>NaN</td>\n",
       "      <td>2</td>\n",
       "      <td>2</td>\n",
       "      <td>411480</td>\n",
       "      <td>2</td>\n",
       "    </tr>\n",
       "  </tbody>\n",
       "</table>\n",
       "</div>"
      ],
      "text/plain": [
       "       Unnamed: 0    MMM-YY  Driver_ID   Age  Gender City  Education_Level  \\\n",
       "19099       19099  08/01/20       2788  30.0     0.0  C27                2   \n",
       "19100       19100  09/01/20       2788  30.0     0.0  C27                2   \n",
       "19101       19101  10/01/20       2788  30.0     0.0  C27                2   \n",
       "19102       19102  11/01/20       2788  30.0     0.0  C27                2   \n",
       "19103       19103  12/01/20       2788  30.0     0.0  C27                2   \n",
       "\n",
       "       Income Dateofjoining LastWorkingDate  Joining Designation  Grade  \\\n",
       "19099   70254      06/08/20             NaN                    2      2   \n",
       "19100   70254      06/08/20             NaN                    2      2   \n",
       "19101   70254      06/08/20             NaN                    2      2   \n",
       "19102   70254      06/08/20             NaN                    2      2   \n",
       "19103   70254      06/08/20             NaN                    2      2   \n",
       "\n",
       "       Total Business Value  Quarterly Rating  \n",
       "19099                740280                 3  \n",
       "19100                448370                 3  \n",
       "19101                     0                 2  \n",
       "19102                200420                 2  \n",
       "19103                411480                 2  "
      ]
     },
     "execution_count": 1027,
     "metadata": {},
     "output_type": "execute_result"
    }
   ],
   "source": [
    "data.tail()"
   ]
  },
  {
   "cell_type": "code",
   "execution_count": 1028,
   "id": "c5bab184",
   "metadata": {},
   "outputs": [],
   "source": [
    "data = data.drop(columns = 'Unnamed: 0')"
   ]
  },
  {
   "cell_type": "code",
   "execution_count": 1029,
   "id": "7c00b2cb",
   "metadata": {},
   "outputs": [
    {
     "data": {
      "text/plain": [
       "(19104, 13)"
      ]
     },
     "execution_count": 1029,
     "metadata": {},
     "output_type": "execute_result"
    }
   ],
   "source": [
    "data.shape"
   ]
  },
  {
   "cell_type": "code",
   "execution_count": 1030,
   "id": "df987069",
   "metadata": {},
   "outputs": [
    {
     "name": "stdout",
     "output_type": "stream",
     "text": [
      "<class 'pandas.core.frame.DataFrame'>\n",
      "RangeIndex: 19104 entries, 0 to 19103\n",
      "Data columns (total 13 columns):\n",
      " #   Column                Non-Null Count  Dtype  \n",
      "---  ------                --------------  -----  \n",
      " 0   MMM-YY                19104 non-null  object \n",
      " 1   Driver_ID             19104 non-null  int64  \n",
      " 2   Age                   19043 non-null  float64\n",
      " 3   Gender                19052 non-null  float64\n",
      " 4   City                  19104 non-null  object \n",
      " 5   Education_Level       19104 non-null  int64  \n",
      " 6   Income                19104 non-null  int64  \n",
      " 7   Dateofjoining         19104 non-null  object \n",
      " 8   LastWorkingDate       1616 non-null   object \n",
      " 9   Joining Designation   19104 non-null  int64  \n",
      " 10  Grade                 19104 non-null  int64  \n",
      " 11  Total Business Value  19104 non-null  int64  \n",
      " 12  Quarterly Rating      19104 non-null  int64  \n",
      "dtypes: float64(2), int64(7), object(4)\n",
      "memory usage: 1.9+ MB\n"
     ]
    }
   ],
   "source": [
    "#data overiew - non-null counts and data types\n",
    "\n",
    "data.info()"
   ]
  },
  {
   "cell_type": "code",
   "execution_count": 1031,
   "id": "1601bf15",
   "metadata": {},
   "outputs": [
    {
     "data": {
      "text/plain": [
       "MMM-YY                   0.000000\n",
       "Driver_ID                0.000000\n",
       "Age                      0.319305\n",
       "Gender                   0.272194\n",
       "City                     0.000000\n",
       "Education_Level          0.000000\n",
       "Income                   0.000000\n",
       "Dateofjoining            0.000000\n",
       "LastWorkingDate         91.541039\n",
       "Joining Designation      0.000000\n",
       "Grade                    0.000000\n",
       "Total Business Value     0.000000\n",
       "Quarterly Rating         0.000000\n",
       "dtype: float64"
      ]
     },
     "execution_count": 1031,
     "metadata": {},
     "output_type": "execute_result"
    }
   ],
   "source": [
    "#percentage of null values in each column\n",
    "\n",
    "data.isnull().sum()*100/data.isnull().count()"
   ]
  },
  {
   "cell_type": "markdown",
   "id": "891515bf",
   "metadata": {},
   "source": [
    "# **Exploratory Data Analysis**"
   ]
  },
  {
   "cell_type": "code",
   "execution_count": 1032,
   "id": "3131c111",
   "metadata": {},
   "outputs": [],
   "source": [
    "#converting date columns to date dtype\n",
    "\n",
    "data['MMM-YY'] = data['MMM-YY'].astype('datetime64')\n",
    "data['Dateofjoining'] = data['Dateofjoining'].astype('datetime64')\n",
    "data['LastWorkingDate'] = data['LastWorkingDate'].astype('datetime64')"
   ]
  },
  {
   "cell_type": "code",
   "execution_count": 1033,
   "id": "4bb8429c",
   "metadata": {},
   "outputs": [],
   "source": [
    "#grouping by Driver_ID and storing the sum of Total Business value and last values for all other fields\n",
    "\n",
    "df = data.groupby('Driver_ID').last()\n",
    "df['Total Business Value'] = data.groupby('Driver_ID')['Total Business Value'].sum()\n",
    "# df['Avg Quarterly Rating'] = data.groupby('Driver_ID')['Quarterly Rating'].mean()\n",
    "df.reset_index(inplace = True)"
   ]
  },
  {
   "cell_type": "code",
   "execution_count": 1034,
   "id": "1654f3a6",
   "metadata": {},
   "outputs": [
    {
     "data": {
      "text/html": [
       "<div>\n",
       "<style scoped>\n",
       "    .dataframe tbody tr th:only-of-type {\n",
       "        vertical-align: middle;\n",
       "    }\n",
       "\n",
       "    .dataframe tbody tr th {\n",
       "        vertical-align: top;\n",
       "    }\n",
       "\n",
       "    .dataframe thead th {\n",
       "        text-align: right;\n",
       "    }\n",
       "</style>\n",
       "<table border=\"1\" class=\"dataframe\">\n",
       "  <thead>\n",
       "    <tr style=\"text-align: right;\">\n",
       "      <th></th>\n",
       "      <th>Driver_ID</th>\n",
       "      <th>MMM-YY</th>\n",
       "      <th>Age</th>\n",
       "      <th>Gender</th>\n",
       "      <th>City</th>\n",
       "      <th>Education_Level</th>\n",
       "      <th>Income</th>\n",
       "      <th>Dateofjoining</th>\n",
       "      <th>LastWorkingDate</th>\n",
       "      <th>Joining Designation</th>\n",
       "      <th>Grade</th>\n",
       "      <th>Total Business Value</th>\n",
       "      <th>Quarterly Rating</th>\n",
       "    </tr>\n",
       "  </thead>\n",
       "  <tbody>\n",
       "    <tr>\n",
       "      <th>0</th>\n",
       "      <td>1</td>\n",
       "      <td>2019-03-01</td>\n",
       "      <td>28.0</td>\n",
       "      <td>0.0</td>\n",
       "      <td>C23</td>\n",
       "      <td>2</td>\n",
       "      <td>57387</td>\n",
       "      <td>2018-12-24</td>\n",
       "      <td>2019-03-11</td>\n",
       "      <td>1</td>\n",
       "      <td>1</td>\n",
       "      <td>1715580</td>\n",
       "      <td>2</td>\n",
       "    </tr>\n",
       "    <tr>\n",
       "      <th>1</th>\n",
       "      <td>2</td>\n",
       "      <td>2020-12-01</td>\n",
       "      <td>31.0</td>\n",
       "      <td>0.0</td>\n",
       "      <td>C7</td>\n",
       "      <td>2</td>\n",
       "      <td>67016</td>\n",
       "      <td>2020-11-06</td>\n",
       "      <td>NaT</td>\n",
       "      <td>2</td>\n",
       "      <td>2</td>\n",
       "      <td>0</td>\n",
       "      <td>1</td>\n",
       "    </tr>\n",
       "    <tr>\n",
       "      <th>2</th>\n",
       "      <td>4</td>\n",
       "      <td>2020-04-01</td>\n",
       "      <td>43.0</td>\n",
       "      <td>0.0</td>\n",
       "      <td>C13</td>\n",
       "      <td>2</td>\n",
       "      <td>65603</td>\n",
       "      <td>2019-12-07</td>\n",
       "      <td>2020-04-27</td>\n",
       "      <td>2</td>\n",
       "      <td>2</td>\n",
       "      <td>350000</td>\n",
       "      <td>1</td>\n",
       "    </tr>\n",
       "    <tr>\n",
       "      <th>3</th>\n",
       "      <td>5</td>\n",
       "      <td>2019-03-01</td>\n",
       "      <td>29.0</td>\n",
       "      <td>0.0</td>\n",
       "      <td>C9</td>\n",
       "      <td>0</td>\n",
       "      <td>46368</td>\n",
       "      <td>2019-01-09</td>\n",
       "      <td>2019-03-07</td>\n",
       "      <td>1</td>\n",
       "      <td>1</td>\n",
       "      <td>120360</td>\n",
       "      <td>1</td>\n",
       "    </tr>\n",
       "    <tr>\n",
       "      <th>4</th>\n",
       "      <td>6</td>\n",
       "      <td>2020-12-01</td>\n",
       "      <td>31.0</td>\n",
       "      <td>1.0</td>\n",
       "      <td>C11</td>\n",
       "      <td>1</td>\n",
       "      <td>78728</td>\n",
       "      <td>2020-07-31</td>\n",
       "      <td>NaT</td>\n",
       "      <td>3</td>\n",
       "      <td>3</td>\n",
       "      <td>1265000</td>\n",
       "      <td>2</td>\n",
       "    </tr>\n",
       "  </tbody>\n",
       "</table>\n",
       "</div>"
      ],
      "text/plain": [
       "   Driver_ID     MMM-YY   Age  Gender City  Education_Level  Income  \\\n",
       "0          1 2019-03-01  28.0     0.0  C23                2   57387   \n",
       "1          2 2020-12-01  31.0     0.0   C7                2   67016   \n",
       "2          4 2020-04-01  43.0     0.0  C13                2   65603   \n",
       "3          5 2019-03-01  29.0     0.0   C9                0   46368   \n",
       "4          6 2020-12-01  31.0     1.0  C11                1   78728   \n",
       "\n",
       "  Dateofjoining LastWorkingDate  Joining Designation  Grade  \\\n",
       "0    2018-12-24      2019-03-11                    1      1   \n",
       "1    2020-11-06             NaT                    2      2   \n",
       "2    2019-12-07      2020-04-27                    2      2   \n",
       "3    2019-01-09      2019-03-07                    1      1   \n",
       "4    2020-07-31             NaT                    3      3   \n",
       "\n",
       "   Total Business Value  Quarterly Rating  \n",
       "0               1715580                 2  \n",
       "1                     0                 1  \n",
       "2                350000                 1  \n",
       "3                120360                 1  \n",
       "4               1265000                 2  "
      ]
     },
     "execution_count": 1034,
     "metadata": {},
     "output_type": "execute_result"
    }
   ],
   "source": [
    "df.head()"
   ]
  },
  {
   "cell_type": "code",
   "execution_count": 1035,
   "id": "939a1923",
   "metadata": {},
   "outputs": [
    {
     "data": {
      "text/plain": [
       "(2381, 13)"
      ]
     },
     "execution_count": 1035,
     "metadata": {},
     "output_type": "execute_result"
    }
   ],
   "source": [
    "df.shape"
   ]
  },
  {
   "cell_type": "code",
   "execution_count": 1036,
   "id": "949b6ba3",
   "metadata": {},
   "outputs": [
    {
     "name": "stdout",
     "output_type": "stream",
     "text": [
      "<class 'pandas.core.frame.DataFrame'>\n",
      "RangeIndex: 2381 entries, 0 to 2380\n",
      "Data columns (total 13 columns):\n",
      " #   Column                Non-Null Count  Dtype         \n",
      "---  ------                --------------  -----         \n",
      " 0   Driver_ID             2381 non-null   int64         \n",
      " 1   MMM-YY                2381 non-null   datetime64[ns]\n",
      " 2   Age                   2381 non-null   float64       \n",
      " 3   Gender                2381 non-null   float64       \n",
      " 4   City                  2381 non-null   object        \n",
      " 5   Education_Level       2381 non-null   int64         \n",
      " 6   Income                2381 non-null   int64         \n",
      " 7   Dateofjoining         2381 non-null   datetime64[ns]\n",
      " 8   LastWorkingDate       1616 non-null   datetime64[ns]\n",
      " 9   Joining Designation   2381 non-null   int64         \n",
      " 10  Grade                 2381 non-null   int64         \n",
      " 11  Total Business Value  2381 non-null   int64         \n",
      " 12  Quarterly Rating      2381 non-null   int64         \n",
      "dtypes: datetime64[ns](3), float64(2), int64(7), object(1)\n",
      "memory usage: 241.9+ KB\n"
     ]
    }
   ],
   "source": [
    "df.info()"
   ]
  },
  {
   "cell_type": "code",
   "execution_count": 1037,
   "id": "ec4b663f",
   "metadata": {},
   "outputs": [
    {
     "data": {
      "text/plain": [
       "Driver_ID                0.000000\n",
       "MMM-YY                   0.000000\n",
       "Age                      0.000000\n",
       "Gender                   0.000000\n",
       "City                     0.000000\n",
       "Education_Level          0.000000\n",
       "Income                   0.000000\n",
       "Dateofjoining            0.000000\n",
       "LastWorkingDate         32.129357\n",
       "Joining Designation      0.000000\n",
       "Grade                    0.000000\n",
       "Total Business Value     0.000000\n",
       "Quarterly Rating         0.000000\n",
       "dtype: float64"
      ]
     },
     "execution_count": 1037,
     "metadata": {},
     "output_type": "execute_result"
    }
   ],
   "source": [
    "#percentage of null values in each column\n",
    "\n",
    "df.isnull().sum()*100/df.isnull().count()"
   ]
  },
  {
   "cell_type": "markdown",
   "id": "e92b460a",
   "metadata": {},
   "source": [
    "**Data Overview**\n",
    "\n",
    "*Before Cleaning*\n",
    "- 19104 rows and 13 columns\n",
    "\n",
    "*After Cleaning*\n",
    "\n",
    "- There are 2381 rows and 13 columns\n",
    "- Each row represents the attributes of a driver (dependent variables) and their last working date (NaN if still working), independent variable.\n",
    "\n",
    "**Data Types**\n",
    "- Numerical(Continuous) variables - Age, Income, Total Business Value\n",
    "- Numerical(Discrete) variables - Diver_ID, Gender, Education_Level, Joining Designation, Grade, Quarterly Rating\n",
    "- Categorical variable - City\n",
    "- Datetime variables - MMM-YY, Dateofjoining, LastWorkingDate"
   ]
  },
  {
   "cell_type": "markdown",
   "id": "c7dc9c9d",
   "metadata": {},
   "source": [
    "## **Non-Graphical Analysis**\n"
   ]
  },
  {
   "cell_type": "code",
   "execution_count": 1038,
   "id": "e685e2c3",
   "metadata": {
    "scrolled": true
   },
   "outputs": [
    {
     "data": {
      "text/plain": [
       "Driver_ID               2381\n",
       "MMM-YY                    24\n",
       "Age                       36\n",
       "Gender                     2\n",
       "City                      29\n",
       "Education_Level            3\n",
       "Income                  2339\n",
       "Dateofjoining            869\n",
       "LastWorkingDate          493\n",
       "Joining Designation        5\n",
       "Grade                      5\n",
       "Total Business Value    1629\n",
       "Quarterly Rating           4\n",
       "dtype: int64"
      ]
     },
     "execution_count": 1038,
     "metadata": {},
     "output_type": "execute_result"
    }
   ],
   "source": [
    "#number of unique values\n",
    "\n",
    "df.nunique()"
   ]
  },
  {
   "cell_type": "code",
   "execution_count": 1039,
   "id": "cddb35ca",
   "metadata": {
    "scrolled": true
   },
   "outputs": [
    {
     "data": {
      "text/html": [
       "<div>\n",
       "<style scoped>\n",
       "    .dataframe tbody tr th:only-of-type {\n",
       "        vertical-align: middle;\n",
       "    }\n",
       "\n",
       "    .dataframe tbody tr th {\n",
       "        vertical-align: top;\n",
       "    }\n",
       "\n",
       "    .dataframe thead th {\n",
       "        text-align: right;\n",
       "    }\n",
       "</style>\n",
       "<table border=\"1\" class=\"dataframe\">\n",
       "  <thead>\n",
       "    <tr style=\"text-align: right;\">\n",
       "      <th></th>\n",
       "      <th>Driver_ID</th>\n",
       "      <th>MMM-YY</th>\n",
       "      <th>Age</th>\n",
       "      <th>Gender</th>\n",
       "      <th>Education_Level</th>\n",
       "      <th>Income</th>\n",
       "      <th>Dateofjoining</th>\n",
       "      <th>LastWorkingDate</th>\n",
       "      <th>Joining Designation</th>\n",
       "      <th>Grade</th>\n",
       "      <th>Total Business Value</th>\n",
       "      <th>Quarterly Rating</th>\n",
       "    </tr>\n",
       "  </thead>\n",
       "  <tbody>\n",
       "    <tr>\n",
       "      <th>count</th>\n",
       "      <td>2381.000000</td>\n",
       "      <td>2381</td>\n",
       "      <td>2381.000000</td>\n",
       "      <td>2381.000000</td>\n",
       "      <td>2381.00000</td>\n",
       "      <td>2381.000000</td>\n",
       "      <td>2381</td>\n",
       "      <td>1616</td>\n",
       "      <td>2381.000000</td>\n",
       "      <td>2381.000000</td>\n",
       "      <td>2.381000e+03</td>\n",
       "      <td>2381.000000</td>\n",
       "    </tr>\n",
       "    <tr>\n",
       "      <th>mean</th>\n",
       "      <td>1397.559009</td>\n",
       "      <td>2020-03-31 15:04:09.475010560</td>\n",
       "      <td>33.663167</td>\n",
       "      <td>0.410332</td>\n",
       "      <td>1.00756</td>\n",
       "      <td>59334.157077</td>\n",
       "      <td>2019-02-08 07:14:50.550189056</td>\n",
       "      <td>2019-12-21 20:59:06.534653440</td>\n",
       "      <td>1.820244</td>\n",
       "      <td>2.096598</td>\n",
       "      <td>4.586742e+06</td>\n",
       "      <td>1.427971</td>\n",
       "    </tr>\n",
       "    <tr>\n",
       "      <th>min</th>\n",
       "      <td>1.000000</td>\n",
       "      <td>2019-01-01 00:00:00</td>\n",
       "      <td>21.000000</td>\n",
       "      <td>0.000000</td>\n",
       "      <td>0.00000</td>\n",
       "      <td>10747.000000</td>\n",
       "      <td>2013-04-01 00:00:00</td>\n",
       "      <td>2018-12-31 00:00:00</td>\n",
       "      <td>1.000000</td>\n",
       "      <td>1.000000</td>\n",
       "      <td>-1.385530e+06</td>\n",
       "      <td>1.000000</td>\n",
       "    </tr>\n",
       "    <tr>\n",
       "      <th>25%</th>\n",
       "      <td>695.000000</td>\n",
       "      <td>2019-09-01 00:00:00</td>\n",
       "      <td>29.000000</td>\n",
       "      <td>0.000000</td>\n",
       "      <td>0.00000</td>\n",
       "      <td>39104.000000</td>\n",
       "      <td>2018-06-29 00:00:00</td>\n",
       "      <td>2019-06-06 00:00:00</td>\n",
       "      <td>1.000000</td>\n",
       "      <td>1.000000</td>\n",
       "      <td>0.000000e+00</td>\n",
       "      <td>1.000000</td>\n",
       "    </tr>\n",
       "    <tr>\n",
       "      <th>50%</th>\n",
       "      <td>1400.000000</td>\n",
       "      <td>2020-06-01 00:00:00</td>\n",
       "      <td>33.000000</td>\n",
       "      <td>0.000000</td>\n",
       "      <td>1.00000</td>\n",
       "      <td>55315.000000</td>\n",
       "      <td>2019-07-21 00:00:00</td>\n",
       "      <td>2019-12-20 12:00:00</td>\n",
       "      <td>2.000000</td>\n",
       "      <td>2.000000</td>\n",
       "      <td>8.176800e+05</td>\n",
       "      <td>1.000000</td>\n",
       "    </tr>\n",
       "    <tr>\n",
       "      <th>75%</th>\n",
       "      <td>2100.000000</td>\n",
       "      <td>2020-12-01 00:00:00</td>\n",
       "      <td>37.000000</td>\n",
       "      <td>1.000000</td>\n",
       "      <td>2.00000</td>\n",
       "      <td>75986.000000</td>\n",
       "      <td>2020-05-02 00:00:00</td>\n",
       "      <td>2020-07-03 00:00:00</td>\n",
       "      <td>2.000000</td>\n",
       "      <td>3.000000</td>\n",
       "      <td>4.173650e+06</td>\n",
       "      <td>2.000000</td>\n",
       "    </tr>\n",
       "    <tr>\n",
       "      <th>max</th>\n",
       "      <td>2788.000000</td>\n",
       "      <td>2020-12-01 00:00:00</td>\n",
       "      <td>58.000000</td>\n",
       "      <td>1.000000</td>\n",
       "      <td>2.00000</td>\n",
       "      <td>188418.000000</td>\n",
       "      <td>2020-12-28 00:00:00</td>\n",
       "      <td>2020-12-28 00:00:00</td>\n",
       "      <td>5.000000</td>\n",
       "      <td>5.000000</td>\n",
       "      <td>9.533106e+07</td>\n",
       "      <td>4.000000</td>\n",
       "    </tr>\n",
       "    <tr>\n",
       "      <th>std</th>\n",
       "      <td>806.161628</td>\n",
       "      <td>NaN</td>\n",
       "      <td>5.983375</td>\n",
       "      <td>0.491997</td>\n",
       "      <td>0.81629</td>\n",
       "      <td>28383.666384</td>\n",
       "      <td>NaN</td>\n",
       "      <td>NaN</td>\n",
       "      <td>0.841433</td>\n",
       "      <td>0.941522</td>\n",
       "      <td>9.127115e+06</td>\n",
       "      <td>0.809839</td>\n",
       "    </tr>\n",
       "  </tbody>\n",
       "</table>\n",
       "</div>"
      ],
      "text/plain": [
       "         Driver_ID                         MMM-YY          Age       Gender  \\\n",
       "count  2381.000000                           2381  2381.000000  2381.000000   \n",
       "mean   1397.559009  2020-03-31 15:04:09.475010560    33.663167     0.410332   \n",
       "min       1.000000            2019-01-01 00:00:00    21.000000     0.000000   \n",
       "25%     695.000000            2019-09-01 00:00:00    29.000000     0.000000   \n",
       "50%    1400.000000            2020-06-01 00:00:00    33.000000     0.000000   \n",
       "75%    2100.000000            2020-12-01 00:00:00    37.000000     1.000000   \n",
       "max    2788.000000            2020-12-01 00:00:00    58.000000     1.000000   \n",
       "std     806.161628                            NaN     5.983375     0.491997   \n",
       "\n",
       "       Education_Level         Income                  Dateofjoining  \\\n",
       "count       2381.00000    2381.000000                           2381   \n",
       "mean           1.00756   59334.157077  2019-02-08 07:14:50.550189056   \n",
       "min            0.00000   10747.000000            2013-04-01 00:00:00   \n",
       "25%            0.00000   39104.000000            2018-06-29 00:00:00   \n",
       "50%            1.00000   55315.000000            2019-07-21 00:00:00   \n",
       "75%            2.00000   75986.000000            2020-05-02 00:00:00   \n",
       "max            2.00000  188418.000000            2020-12-28 00:00:00   \n",
       "std            0.81629   28383.666384                            NaN   \n",
       "\n",
       "                     LastWorkingDate  Joining Designation        Grade  \\\n",
       "count                           1616          2381.000000  2381.000000   \n",
       "mean   2019-12-21 20:59:06.534653440             1.820244     2.096598   \n",
       "min              2018-12-31 00:00:00             1.000000     1.000000   \n",
       "25%              2019-06-06 00:00:00             1.000000     1.000000   \n",
       "50%              2019-12-20 12:00:00             2.000000     2.000000   \n",
       "75%              2020-07-03 00:00:00             2.000000     3.000000   \n",
       "max              2020-12-28 00:00:00             5.000000     5.000000   \n",
       "std                              NaN             0.841433     0.941522   \n",
       "\n",
       "       Total Business Value  Quarterly Rating  \n",
       "count          2.381000e+03       2381.000000  \n",
       "mean           4.586742e+06          1.427971  \n",
       "min           -1.385530e+06          1.000000  \n",
       "25%            0.000000e+00          1.000000  \n",
       "50%            8.176800e+05          1.000000  \n",
       "75%            4.173650e+06          2.000000  \n",
       "max            9.533106e+07          4.000000  \n",
       "std            9.127115e+06          0.809839  "
      ]
     },
     "execution_count": 1039,
     "metadata": {},
     "output_type": "execute_result"
    }
   ],
   "source": [
    "df.describe(datetime_is_numeric=True)"
   ]
  },
  {
   "cell_type": "code",
   "execution_count": 1040,
   "id": "e76143fa",
   "metadata": {},
   "outputs": [],
   "source": [
    "#target variable churn\n",
    "\n",
    "df['churn'] = df['LastWorkingDate'].isna().apply(lambda x: 0 if x else 1)"
   ]
  },
  {
   "cell_type": "code",
   "execution_count": 1041,
   "id": "fef24940",
   "metadata": {},
   "outputs": [
    {
     "data": {
      "text/plain": [
       "1    0.678706\n",
       "0    0.321294\n",
       "Name: churn, dtype: float64"
      ]
     },
     "execution_count": 1041,
     "metadata": {},
     "output_type": "execute_result"
    }
   ],
   "source": [
    "#checking column churn\n",
    "\n",
    "df['churn'].value_counts(normalize=True)"
   ]
  },
  {
   "cell_type": "code",
   "execution_count": 1042,
   "id": "62143000",
   "metadata": {},
   "outputs": [
    {
     "data": {
      "text/plain": [
       "0.0    0.589668\n",
       "1.0    0.410332\n",
       "Name: Gender, dtype: float64"
      ]
     },
     "execution_count": 1042,
     "metadata": {},
     "output_type": "execute_result"
    }
   ],
   "source": [
    "#checking column Gender\n",
    "\n",
    "df['Gender'].value_counts(normalize=True)"
   ]
  },
  {
   "cell_type": "code",
   "execution_count": 1043,
   "id": "0346cf31",
   "metadata": {},
   "outputs": [
    {
     "data": {
      "text/plain": [
       "C20    152\n",
       "C15    101\n",
       "C29     96\n",
       "C26     93\n",
       "C8      89\n",
       "C27     89\n",
       "C10     86\n",
       "C16     84\n",
       "C22     82\n",
       "C3      82\n",
       "C28     82\n",
       "C12     81\n",
       "C5      80\n",
       "C1      80\n",
       "C21     79\n",
       "C14     79\n",
       "C6      78\n",
       "C4      77\n",
       "C7      76\n",
       "C9      75\n",
       "C25     74\n",
       "C23     74\n",
       "C24     73\n",
       "C19     72\n",
       "C2      72\n",
       "C17     71\n",
       "C13     71\n",
       "C18     69\n",
       "C11     64\n",
       "Name: City, dtype: int64"
      ]
     },
     "execution_count": 1043,
     "metadata": {},
     "output_type": "execute_result"
    }
   ],
   "source": [
    "#checking column City\n",
    "\n",
    "df['City'].value_counts()"
   ]
  },
  {
   "cell_type": "code",
   "execution_count": 1044,
   "id": "a4335618",
   "metadata": {},
   "outputs": [
    {
     "data": {
      "text/plain": [
       "2    802\n",
       "1    795\n",
       "0    784\n",
       "Name: Education_Level, dtype: int64"
      ]
     },
     "execution_count": 1044,
     "metadata": {},
     "output_type": "execute_result"
    }
   ],
   "source": [
    "#checking column Education_Level\n",
    "\n",
    "df['Education_Level'].value_counts()"
   ]
  },
  {
   "cell_type": "code",
   "execution_count": 1045,
   "id": "85b928f9",
   "metadata": {},
   "outputs": [
    {
     "data": {
      "text/plain": [
       "1    1026\n",
       "2     815\n",
       "3     493\n",
       "4      36\n",
       "5      11\n",
       "Name: Joining Designation, dtype: int64"
      ]
     },
     "execution_count": 1045,
     "metadata": {},
     "output_type": "execute_result"
    }
   ],
   "source": [
    "#checking column Joining Designation\n",
    "\n",
    "df['Joining Designation'].value_counts()"
   ]
  },
  {
   "cell_type": "code",
   "execution_count": 1046,
   "id": "c2941413",
   "metadata": {},
   "outputs": [
    {
     "data": {
      "text/plain": [
       "2    855\n",
       "1    741\n",
       "3    623\n",
       "4    138\n",
       "5     24\n",
       "Name: Grade, dtype: int64"
      ]
     },
     "execution_count": 1046,
     "metadata": {},
     "output_type": "execute_result"
    }
   ],
   "source": [
    "#checking column Grade\n",
    "\n",
    "df['Grade'].value_counts()"
   ]
  },
  {
   "cell_type": "code",
   "execution_count": 1047,
   "id": "5d6a6e46",
   "metadata": {},
   "outputs": [
    {
     "data": {
      "text/plain": [
       "1    0.732465\n",
       "2    0.152037\n",
       "3    0.070559\n",
       "4    0.044939\n",
       "Name: Quarterly Rating, dtype: float64"
      ]
     },
     "execution_count": 1047,
     "metadata": {},
     "output_type": "execute_result"
    }
   ],
   "source": [
    "#checking column Quarterly Rating\n",
    "\n",
    "df['Quarterly Rating'].value_counts(normalize=True)"
   ]
  },
  {
   "cell_type": "markdown",
   "id": "4f4be747",
   "metadata": {},
   "source": [
    "## **Visual Analysis**\n"
   ]
  },
  {
   "cell_type": "code",
   "execution_count": 1048,
   "id": "8d3c74bc",
   "metadata": {},
   "outputs": [
    {
     "data": {
      "image/png": "[encoded data removed]",
      "text/plain": [
       "<Figure size 864x288 with 2 Axes>"
      ]
     },
     "metadata": {
      "needs_background": "light"
     },
     "output_type": "display_data"
    },
    {
     "data": {
      "image/png": "[encoded data removed]",
      "text/plain": [
       "<Figure size 864x288 with 2 Axes>"
      ]
     },
     "metadata": {
      "needs_background": "light"
     },
     "output_type": "display_data"
    },
    {
     "data": {
      "image/png": "[encoded data removed]",
      "text/plain": [
       "<Figure size 864x288 with 2 Axes>"
      ]
     },
     "metadata": {
      "needs_background": "light"
     },
     "output_type": "display_data"
    }
   ],
   "source": [
    "#Distribution of numerical attributes\n",
    "\n",
    "num_cols = ['Age', 'Income', 'Total Business Value']\n",
    "\n",
    "for col in num_cols:\n",
    "    plt.figure(figsize=(12,4))\n",
    "    plt.subplot(121)\n",
    "    sns.boxplot(data=df, y=col, x='churn')\n",
    "    plt.subplot(122)\n",
    "    sns.histplot(data=df, x=col, kde=True)\n",
    "    plt.show()"
   ]
  },
  {
   "cell_type": "code",
   "execution_count": 1049,
   "id": "53e54483",
   "metadata": {},
   "outputs": [
    {
     "data": {
      "text/html": [
       "<div>\n",
       "<style scoped>\n",
       "    .dataframe tbody tr th:only-of-type {\n",
       "        vertical-align: middle;\n",
       "    }\n",
       "\n",
       "    .dataframe tbody tr th {\n",
       "        vertical-align: top;\n",
       "    }\n",
       "\n",
       "    .dataframe thead th {\n",
       "        text-align: right;\n",
       "    }\n",
       "</style>\n",
       "<table border=\"1\" class=\"dataframe\">\n",
       "  <thead>\n",
       "    <tr style=\"text-align: right;\">\n",
       "      <th></th>\n",
       "      <th>Total Business Value</th>\n",
       "      <th>churn</th>\n",
       "    </tr>\n",
       "  </thead>\n",
       "  <tbody>\n",
       "    <tr>\n",
       "      <th>0</th>\n",
       "      <td>1715580</td>\n",
       "      <td>1</td>\n",
       "    </tr>\n",
       "    <tr>\n",
       "      <th>1</th>\n",
       "      <td>0</td>\n",
       "      <td>0</td>\n",
       "    </tr>\n",
       "    <tr>\n",
       "      <th>2</th>\n",
       "      <td>350000</td>\n",
       "      <td>1</td>\n",
       "    </tr>\n",
       "    <tr>\n",
       "      <th>3</th>\n",
       "      <td>120360</td>\n",
       "      <td>1</td>\n",
       "    </tr>\n",
       "    <tr>\n",
       "      <th>4</th>\n",
       "      <td>1265000</td>\n",
       "      <td>0</td>\n",
       "    </tr>\n",
       "    <tr>\n",
       "      <th>...</th>\n",
       "      <td>...</td>\n",
       "      <td>...</td>\n",
       "    </tr>\n",
       "    <tr>\n",
       "      <th>2376</th>\n",
       "      <td>21748820</td>\n",
       "      <td>0</td>\n",
       "    </tr>\n",
       "    <tr>\n",
       "      <th>2377</th>\n",
       "      <td>0</td>\n",
       "      <td>1</td>\n",
       "    </tr>\n",
       "    <tr>\n",
       "      <th>2378</th>\n",
       "      <td>2815090</td>\n",
       "      <td>1</td>\n",
       "    </tr>\n",
       "    <tr>\n",
       "      <th>2379</th>\n",
       "      <td>977830</td>\n",
       "      <td>1</td>\n",
       "    </tr>\n",
       "    <tr>\n",
       "      <th>2380</th>\n",
       "      <td>2298240</td>\n",
       "      <td>0</td>\n",
       "    </tr>\n",
       "  </tbody>\n",
       "</table>\n",
       "<p>2381 rows × 2 columns</p>\n",
       "</div>"
      ],
      "text/plain": [
       "      Total Business Value  churn\n",
       "0                  1715580      1\n",
       "1                        0      0\n",
       "2                   350000      1\n",
       "3                   120360      1\n",
       "4                  1265000      0\n",
       "...                    ...    ...\n",
       "2376              21748820      0\n",
       "2377                     0      1\n",
       "2378               2815090      1\n",
       "2379                977830      1\n",
       "2380               2298240      0\n",
       "\n",
       "[2381 rows x 2 columns]"
      ]
     },
     "execution_count": 1049,
     "metadata": {},
     "output_type": "execute_result"
    }
   ],
   "source": [
    "df[['Total Business Value', 'churn']]"
   ]
  },
  {
   "cell_type": "code",
   "execution_count": 1050,
   "id": "2efe8fdb",
   "metadata": {},
   "outputs": [
    {
     "name": "stdout",
     "output_type": "stream",
     "text": [
      "churn          0         1\n",
      "Gender                    \n",
      "0.0     0.324786  0.675214\n",
      "1.0     0.316274  0.683726\n",
      "All     0.321294  0.678706\n"
     ]
    },
    {
     "data": {
      "image/png": "[encoded data removed]",
      "text/plain": [
       "<Figure size 432x288 with 1 Axes>"
      ]
     },
     "metadata": {
      "needs_background": "light"
     },
     "output_type": "display_data"
    },
    {
     "name": "stdout",
     "output_type": "stream",
     "text": [
      "churn                   0         1\n",
      "Education_Level                    \n",
      "0                0.308673  0.691327\n",
      "1                0.337107  0.662893\n",
      "2                0.317955  0.682045\n",
      "All              0.321294  0.678706\n"
     ]
    },
    {
     "data": {
      "image/png": "[encoded data removed]",
      "text/plain": [
       "<Figure size 432x288 with 1 Axes>"
      ]
     },
     "metadata": {
      "needs_background": "light"
     },
     "output_type": "display_data"
    },
    {
     "name": "stdout",
     "output_type": "stream",
     "text": [
      "churn                       0         1\n",
      "Joining Designation                    \n",
      "1                    0.267057  0.732943\n",
      "2                    0.312883  0.687117\n",
      "3                    0.444219  0.555781\n",
      "4                    0.388889  0.611111\n",
      "5                    0.272727  0.727273\n",
      "All                  0.321294  0.678706\n"
     ]
    },
    {
     "data": {
      "image/png": "[encoded data removed]",
      "text/plain": [
       "<Figure size 432x288 with 1 Axes>"
      ]
     },
     "metadata": {
      "needs_background": "light"
     },
     "output_type": "display_data"
    },
    {
     "name": "stdout",
     "output_type": "stream",
     "text": [
      "churn         0         1\n",
      "Grade                    \n",
      "1      0.195682  0.804318\n",
      "2      0.298246  0.701754\n",
      "3      0.459069  0.540931\n",
      "4      0.492754  0.507246\n",
      "5      0.458333  0.541667\n",
      "All    0.321294  0.678706\n"
     ]
    },
    {
     "data": {
      "image/png": "[encoded data removed]",
      "text/plain": [
       "<Figure size 432x288 with 1 Axes>"
      ]
     },
     "metadata": {
      "needs_background": "light"
     },
     "output_type": "display_data"
    },
    {
     "name": "stdout",
     "output_type": "stream",
     "text": [
      "churn                    0         1\n",
      "Quarterly Rating                    \n",
      "1                 0.178899  0.821101\n",
      "2                 0.596685  0.403315\n",
      "3                 0.833333  0.166667\n",
      "4                 0.906542  0.093458\n",
      "All               0.321294  0.678706\n"
     ]
    },
    {
     "data": {
      "image/png": "[encoded data removed]",
      "text/plain": [
       "<Figure size 432x288 with 1 Axes>"
      ]
     },
     "metadata": {
      "needs_background": "light"
     },
     "output_type": "display_data"
    }
   ],
   "source": [
    "#visualizing categorical attributes\n",
    "\n",
    "cat_cols = ['Gender', 'Education_Level', 'Joining Designation', 'Grade', 'Quarterly Rating']\n",
    "\n",
    "for col in cat_cols:\n",
    "    print(pd.crosstab(df[col], df['churn'], margins=True, normalize='index'))\n",
    "    sns.countplot(data=df, x=col, hue='churn')\n",
    "    plt.show()"
   ]
  },
  {
   "cell_type": "code",
   "execution_count": 1051,
   "id": "66004436",
   "metadata": {},
   "outputs": [
    {
     "data": {
      "image/png": "[encoded data removed]",
      "text/plain": [
       "<Figure size 432x576 with 1 Axes>"
      ]
     },
     "metadata": {
      "needs_background": "light"
     },
     "output_type": "display_data"
    }
   ],
   "source": [
    "plt.figure(figsize=(6,8))\n",
    "sns.countplot(data=df, y='City', hue='churn')\n",
    "plt.show()"
   ]
  },
  {
   "cell_type": "code",
   "execution_count": 1052,
   "id": "95c18dc3",
   "metadata": {},
   "outputs": [
    {
     "data": {
      "text/html": [
       "<div>\n",
       "<style scoped>\n",
       "    .dataframe tbody tr th:only-of-type {\n",
       "        vertical-align: middle;\n",
       "    }\n",
       "\n",
       "    .dataframe tbody tr th {\n",
       "        vertical-align: top;\n",
       "    }\n",
       "\n",
       "    .dataframe thead th {\n",
       "        text-align: right;\n",
       "    }\n",
       "</style>\n",
       "<table border=\"1\" class=\"dataframe\">\n",
       "  <thead>\n",
       "    <tr style=\"text-align: right;\">\n",
       "      <th>churn</th>\n",
       "      <th>0</th>\n",
       "      <th>1</th>\n",
       "    </tr>\n",
       "    <tr>\n",
       "      <th>City</th>\n",
       "      <th></th>\n",
       "      <th></th>\n",
       "    </tr>\n",
       "  </thead>\n",
       "  <tbody>\n",
       "    <tr>\n",
       "      <th>C1</th>\n",
       "      <td>0.300000</td>\n",
       "      <td>0.700000</td>\n",
       "    </tr>\n",
       "    <tr>\n",
       "      <th>C10</th>\n",
       "      <td>0.290698</td>\n",
       "      <td>0.709302</td>\n",
       "    </tr>\n",
       "    <tr>\n",
       "      <th>C11</th>\n",
       "      <td>0.296875</td>\n",
       "      <td>0.703125</td>\n",
       "    </tr>\n",
       "    <tr>\n",
       "      <th>C12</th>\n",
       "      <td>0.345679</td>\n",
       "      <td>0.654321</td>\n",
       "    </tr>\n",
       "    <tr>\n",
       "      <th>C13</th>\n",
       "      <td>0.183099</td>\n",
       "      <td>0.816901</td>\n",
       "    </tr>\n",
       "    <tr>\n",
       "      <th>C14</th>\n",
       "      <td>0.265823</td>\n",
       "      <td>0.734177</td>\n",
       "    </tr>\n",
       "    <tr>\n",
       "      <th>C15</th>\n",
       "      <td>0.316832</td>\n",
       "      <td>0.683168</td>\n",
       "    </tr>\n",
       "    <tr>\n",
       "      <th>C16</th>\n",
       "      <td>0.404762</td>\n",
       "      <td>0.595238</td>\n",
       "    </tr>\n",
       "    <tr>\n",
       "      <th>C17</th>\n",
       "      <td>0.225352</td>\n",
       "      <td>0.774648</td>\n",
       "    </tr>\n",
       "    <tr>\n",
       "      <th>C18</th>\n",
       "      <td>0.362319</td>\n",
       "      <td>0.637681</td>\n",
       "    </tr>\n",
       "    <tr>\n",
       "      <th>C19</th>\n",
       "      <td>0.430556</td>\n",
       "      <td>0.569444</td>\n",
       "    </tr>\n",
       "    <tr>\n",
       "      <th>C2</th>\n",
       "      <td>0.236111</td>\n",
       "      <td>0.763889</td>\n",
       "    </tr>\n",
       "    <tr>\n",
       "      <th>C20</th>\n",
       "      <td>0.269737</td>\n",
       "      <td>0.730263</td>\n",
       "    </tr>\n",
       "    <tr>\n",
       "      <th>C21</th>\n",
       "      <td>0.392405</td>\n",
       "      <td>0.607595</td>\n",
       "    </tr>\n",
       "    <tr>\n",
       "      <th>C22</th>\n",
       "      <td>0.390244</td>\n",
       "      <td>0.609756</td>\n",
       "    </tr>\n",
       "    <tr>\n",
       "      <th>C23</th>\n",
       "      <td>0.229730</td>\n",
       "      <td>0.770270</td>\n",
       "    </tr>\n",
       "    <tr>\n",
       "      <th>C24</th>\n",
       "      <td>0.301370</td>\n",
       "      <td>0.698630</td>\n",
       "    </tr>\n",
       "    <tr>\n",
       "      <th>C25</th>\n",
       "      <td>0.270270</td>\n",
       "      <td>0.729730</td>\n",
       "    </tr>\n",
       "    <tr>\n",
       "      <th>C26</th>\n",
       "      <td>0.301075</td>\n",
       "      <td>0.698925</td>\n",
       "    </tr>\n",
       "    <tr>\n",
       "      <th>C27</th>\n",
       "      <td>0.325843</td>\n",
       "      <td>0.674157</td>\n",
       "    </tr>\n",
       "    <tr>\n",
       "      <th>C28</th>\n",
       "      <td>0.280488</td>\n",
       "      <td>0.719512</td>\n",
       "    </tr>\n",
       "    <tr>\n",
       "      <th>C29</th>\n",
       "      <td>0.468750</td>\n",
       "      <td>0.531250</td>\n",
       "    </tr>\n",
       "    <tr>\n",
       "      <th>C3</th>\n",
       "      <td>0.365854</td>\n",
       "      <td>0.634146</td>\n",
       "    </tr>\n",
       "    <tr>\n",
       "      <th>C4</th>\n",
       "      <td>0.324675</td>\n",
       "      <td>0.675325</td>\n",
       "    </tr>\n",
       "    <tr>\n",
       "      <th>C5</th>\n",
       "      <td>0.400000</td>\n",
       "      <td>0.600000</td>\n",
       "    </tr>\n",
       "    <tr>\n",
       "      <th>C6</th>\n",
       "      <td>0.294872</td>\n",
       "      <td>0.705128</td>\n",
       "    </tr>\n",
       "    <tr>\n",
       "      <th>C7</th>\n",
       "      <td>0.315789</td>\n",
       "      <td>0.684211</td>\n",
       "    </tr>\n",
       "    <tr>\n",
       "      <th>C8</th>\n",
       "      <td>0.404494</td>\n",
       "      <td>0.595506</td>\n",
       "    </tr>\n",
       "    <tr>\n",
       "      <th>C9</th>\n",
       "      <td>0.293333</td>\n",
       "      <td>0.706667</td>\n",
       "    </tr>\n",
       "    <tr>\n",
       "      <th>All</th>\n",
       "      <td>0.321294</td>\n",
       "      <td>0.678706</td>\n",
       "    </tr>\n",
       "  </tbody>\n",
       "</table>\n",
       "</div>"
      ],
      "text/plain": [
       "churn         0         1\n",
       "City                     \n",
       "C1     0.300000  0.700000\n",
       "C10    0.290698  0.709302\n",
       "C11    0.296875  0.703125\n",
       "C12    0.345679  0.654321\n",
       "C13    0.183099  0.816901\n",
       "C14    0.265823  0.734177\n",
       "C15    0.316832  0.683168\n",
       "C16    0.404762  0.595238\n",
       "C17    0.225352  0.774648\n",
       "C18    0.362319  0.637681\n",
       "C19    0.430556  0.569444\n",
       "C2     0.236111  0.763889\n",
       "C20    0.269737  0.730263\n",
       "C21    0.392405  0.607595\n",
       "C22    0.390244  0.609756\n",
       "C23    0.229730  0.770270\n",
       "C24    0.301370  0.698630\n",
       "C25    0.270270  0.729730\n",
       "C26    0.301075  0.698925\n",
       "C27    0.325843  0.674157\n",
       "C28    0.280488  0.719512\n",
       "C29    0.468750  0.531250\n",
       "C3     0.365854  0.634146\n",
       "C4     0.324675  0.675325\n",
       "C5     0.400000  0.600000\n",
       "C6     0.294872  0.705128\n",
       "C7     0.315789  0.684211\n",
       "C8     0.404494  0.595506\n",
       "C9     0.293333  0.706667\n",
       "All    0.321294  0.678706"
      ]
     },
     "execution_count": 1052,
     "metadata": {},
     "output_type": "execute_result"
    }
   ],
   "source": [
    "pd.crosstab(df['City'], df['churn'], margins=True, normalize='index')"
   ]
  },
  {
   "cell_type": "code",
   "execution_count": 1053,
   "id": "80981b3c",
   "metadata": {},
   "outputs": [
    {
     "data": {
      "image/png": "[encoded data removed]",
      "text/plain": [
       "<Figure size 864x576 with 2 Axes>"
      ]
     },
     "metadata": {
      "needs_background": "light"
     },
     "output_type": "display_data"
    }
   ],
   "source": [
    "plt.figure(figsize=(12,8))\n",
    "sns.heatmap(df.corr(method='spearman'), cmap=\"YlGnBu\", annot=True)\n",
    "plt.show()"
   ]
  },
  {
   "cell_type": "markdown",
   "id": "009a0c49",
   "metadata": {},
   "source": [
    "## **Observations Based on EDA**\n",
    "\n",
    "1. 68% of the drivers have churned over the period of two years from 2019 to 2020<br><br>\n",
    "2. Around 60% of the drivers are male and 40% are female drivers<br><br>\n",
    "3. City C20 has the highest number of drivers and C11 has the lowest<br><br>\n",
    "4. There is an equal representation of drivers from different levels of education<br><br>\n",
    "5. Majority of the drivers have a joining designation 1 and very few people have a designation 5<br><br>\n",
    "6. Most of the drivers have a grade of either 1 or 2 and people with grade 5 are very less in number<br><br>\n",
    "7. Over 70% have a last quarterly rating 1 and less than 2% have obtained a rating of 3 or 4<br><br>\n",
    "8. No significant difference is found in the churning behaviour based on gender and education level<br><br>\n",
    "9. Joining designation seem to have some impact on churning as people with a designation 3 tend to leave less<br><br>\n",
    "10. Grade has high impact on churning as over 80% of the drivers with a grade 1 leave the company where only 50-55% of the drivers with grade 3 or above leave<br><br>\n",
    "11. Quarterly rating has the highest impact on predicting churn as only 18% of the people with a rating 1 stay while 80-90% with a rating 3 or 4 stay<br><br>\n",
    "12. Churning is the highest in city C13 and the lowest in city C29<br><br>\n",
    "13. Grade is highly correlated with Income and Job Designation<br><br>\n",
    "14. Quarterly rating is the feature with the highest correlation with churn<br><br>\n",
    "15. Average income of those who stay is significantly higher than that of those drivers who leave the company"
   ]
  },
  {
   "cell_type": "markdown",
   "id": "89afcc33",
   "metadata": {},
   "source": [
    "# **Data Preprocessing**"
   ]
  },
  {
   "cell_type": "code",
   "execution_count": 1054,
   "id": "4a65a691",
   "metadata": {},
   "outputs": [],
   "source": [
    "from sklearn.preprocessing import OneHotEncoder\n",
    "from sklearn.impute import KNNImputer\n",
    "from sklearn.model_selection import train_test_split\n",
    "from sklearn.preprocessing import MinMaxScaler\n",
    "from imblearn.over_sampling import SMOTE"
   ]
  },
  {
   "cell_type": "markdown",
   "id": "c185d63f",
   "metadata": {},
   "source": [
    "### **KNN Imputation**"
   ]
  },
  {
   "cell_type": "code",
   "execution_count": 1055,
   "id": "3947f69b",
   "metadata": {
    "scrolled": true
   },
   "outputs": [
    {
     "data": {
      "text/plain": [
       "Driver_ID                0.000000\n",
       "MMM-YY                   0.000000\n",
       "Age                      0.000000\n",
       "Gender                   0.000000\n",
       "City                     0.000000\n",
       "Education_Level          0.000000\n",
       "Income                   0.000000\n",
       "Dateofjoining            0.000000\n",
       "LastWorkingDate         32.129357\n",
       "Joining Designation      0.000000\n",
       "Grade                    0.000000\n",
       "Total Business Value     0.000000\n",
       "Quarterly Rating         0.000000\n",
       "churn                    0.000000\n",
       "dtype: float64"
      ]
     },
     "execution_count": 1055,
     "metadata": {},
     "output_type": "execute_result"
    }
   ],
   "source": [
    "#percentage of null values in each column\n",
    "\n",
    "df.isnull().sum()*100/df.isnull().count()"
   ]
  },
  {
   "cell_type": "markdown",
   "id": "3d5dada9",
   "metadata": {},
   "source": [
    "*Column LastWorkingDate will be null if the driver hasn't left the company. So, a feature churn is derived from that and no imputation is required. No other feature has null values hence, no need of KNN imputation*"
   ]
  },
  {
   "cell_type": "markdown",
   "id": "0268bce6",
   "metadata": {},
   "source": [
    "### **Feature Engineering**"
   ]
  },
  {
   "cell_type": "code",
   "execution_count": 1056,
   "id": "f7a5fec8",
   "metadata": {},
   "outputs": [],
   "source": [
    "##Creating a column which tells whether the quarterly rating has increased for that driver\n",
    "##for those whose quarterly rating has increased we assign the value 1\n",
    "\n",
    "data_new = data.sort_values(by=['Driver_ID', 'MMM-YY'])\n",
    "df['is_rating_increased'] = np.array((data_new.groupby(by='Driver_ID')['Quarterly Rating'].last() - \n",
    "                            data_new.groupby(by='Driver_ID')['Quarterly Rating'].first()))\n",
    "df['is_rating_increased'] = df['is_rating_increased'].apply(lambda x: 0 if x <= 0 else 1)"
   ]
  },
  {
   "cell_type": "code",
   "execution_count": 1057,
   "id": "877f5f52",
   "metadata": {},
   "outputs": [],
   "source": [
    "##Target variable creation: Create a column called target which tells whether the driver has left the company\n",
    "##driver whose last working day is present will have the value 1\n",
    "\n",
    "#Already created for EDA - Feature churn\n",
    "df['target'] = df['churn']"
   ]
  },
  {
   "cell_type": "code",
   "execution_count": 1058,
   "id": "fe2cf270",
   "metadata": {},
   "outputs": [],
   "source": [
    "##Create a column which tells whether the monthly income has increased for that driver\n",
    "##for those whose monthly income has increased we assign the value 1\n",
    "\n",
    "df['is_monthlyinc_increased'] = np.array((data_new.groupby(by='Driver_ID')['Income'].last() - \n",
    "                            data_new.groupby(by='Driver_ID')['Income'].first()))\n",
    "df['is_monthlyinc_increased'] = df['is_monthlyinc_increased'].apply(lambda x: 0 if x <= 0 else 1)"
   ]
  },
  {
   "cell_type": "markdown",
   "id": "9fc640bc",
   "metadata": {},
   "source": [
    "### **Encoding**"
   ]
  },
  {
   "cell_type": "code",
   "execution_count": 1059,
   "id": "61bee683",
   "metadata": {},
   "outputs": [
    {
     "data": {
      "text/plain": [
       "array(['C23', 'C7', 'C13', 'C9', 'C11', 'C2', 'C19', 'C26', 'C20', 'C17',\n",
       "       'C29', 'C10', 'C24', 'C14', 'C6', 'C28', 'C5', 'C18', 'C27', 'C15',\n",
       "       'C8', 'C25', 'C21', 'C1', 'C4', 'C3', 'C16', 'C22', 'C12'],\n",
       "      dtype=object)"
      ]
     },
     "execution_count": 1059,
     "metadata": {},
     "output_type": "execute_result"
    }
   ],
   "source": [
    "df['City'].unique()"
   ]
  },
  {
   "cell_type": "code",
   "execution_count": 1060,
   "id": "36eff90f",
   "metadata": {},
   "outputs": [
    {
     "data": {
      "text/plain": [
       "array(['C1', 'C10', 'C11', 'C12', 'C13', 'C14', 'C15', 'C16', 'C17',\n",
       "       'C18', 'C19', 'C2', 'C20', 'C21', 'C22', 'C23', 'C24', 'C25',\n",
       "       'C26', 'C27', 'C28', 'C29', 'C3', 'C4', 'C5', 'C6', 'C7', 'C8',\n",
       "       'C9'], dtype=object)"
      ]
     },
     "execution_count": 1060,
     "metadata": {},
     "output_type": "execute_result"
    }
   ],
   "source": [
    "#One Hot Encoding categorical variable City\n",
    "ohe = OneHotEncoder()\n",
    "\n",
    "#fit and transform train data\n",
    "feature_array = ohe.fit_transform(df[['City']]).toarray()\n",
    "np.hstack(ohe.categories_)"
   ]
  },
  {
   "cell_type": "code",
   "execution_count": 1061,
   "id": "f3945d8c",
   "metadata": {},
   "outputs": [
    {
     "data": {
      "text/plain": [
       "(2381, 29)"
      ]
     },
     "execution_count": 1061,
     "metadata": {},
     "output_type": "execute_result"
    }
   ],
   "source": [
    "feature_labels = np.hstack(ohe.categories_)\n",
    "features = pd.DataFrame(feature_array, columns=feature_labels)\n",
    "# features.head()\n",
    "features.shape"
   ]
  },
  {
   "cell_type": "code",
   "execution_count": 1062,
   "id": "07c005e9",
   "metadata": {},
   "outputs": [
    {
     "data": {
      "text/html": [
       "<div>\n",
       "<style scoped>\n",
       "    .dataframe tbody tr th:only-of-type {\n",
       "        vertical-align: middle;\n",
       "    }\n",
       "\n",
       "    .dataframe tbody tr th {\n",
       "        vertical-align: top;\n",
       "    }\n",
       "\n",
       "    .dataframe thead th {\n",
       "        text-align: right;\n",
       "    }\n",
       "</style>\n",
       "<table border=\"1\" class=\"dataframe\">\n",
       "  <thead>\n",
       "    <tr style=\"text-align: right;\">\n",
       "      <th></th>\n",
       "      <th>Driver_ID</th>\n",
       "      <th>MMM-YY</th>\n",
       "      <th>Age</th>\n",
       "      <th>Gender</th>\n",
       "      <th>Education_Level</th>\n",
       "      <th>Income</th>\n",
       "      <th>Dateofjoining</th>\n",
       "      <th>LastWorkingDate</th>\n",
       "      <th>Joining Designation</th>\n",
       "      <th>Grade</th>\n",
       "      <th>...</th>\n",
       "      <th>C27</th>\n",
       "      <th>C28</th>\n",
       "      <th>C29</th>\n",
       "      <th>C3</th>\n",
       "      <th>C4</th>\n",
       "      <th>C5</th>\n",
       "      <th>C6</th>\n",
       "      <th>C7</th>\n",
       "      <th>C8</th>\n",
       "      <th>C9</th>\n",
       "    </tr>\n",
       "  </thead>\n",
       "  <tbody>\n",
       "    <tr>\n",
       "      <th>0</th>\n",
       "      <td>1</td>\n",
       "      <td>2019-03-01</td>\n",
       "      <td>28.0</td>\n",
       "      <td>0.0</td>\n",
       "      <td>2</td>\n",
       "      <td>57387</td>\n",
       "      <td>2018-12-24</td>\n",
       "      <td>2019-03-11</td>\n",
       "      <td>1</td>\n",
       "      <td>1</td>\n",
       "      <td>...</td>\n",
       "      <td>0.0</td>\n",
       "      <td>0.0</td>\n",
       "      <td>0.0</td>\n",
       "      <td>0.0</td>\n",
       "      <td>0.0</td>\n",
       "      <td>0.0</td>\n",
       "      <td>0.0</td>\n",
       "      <td>0.0</td>\n",
       "      <td>0.0</td>\n",
       "      <td>0.0</td>\n",
       "    </tr>\n",
       "    <tr>\n",
       "      <th>1</th>\n",
       "      <td>2</td>\n",
       "      <td>2020-12-01</td>\n",
       "      <td>31.0</td>\n",
       "      <td>0.0</td>\n",
       "      <td>2</td>\n",
       "      <td>67016</td>\n",
       "      <td>2020-11-06</td>\n",
       "      <td>NaT</td>\n",
       "      <td>2</td>\n",
       "      <td>2</td>\n",
       "      <td>...</td>\n",
       "      <td>0.0</td>\n",
       "      <td>0.0</td>\n",
       "      <td>0.0</td>\n",
       "      <td>0.0</td>\n",
       "      <td>0.0</td>\n",
       "      <td>0.0</td>\n",
       "      <td>0.0</td>\n",
       "      <td>1.0</td>\n",
       "      <td>0.0</td>\n",
       "      <td>0.0</td>\n",
       "    </tr>\n",
       "    <tr>\n",
       "      <th>2</th>\n",
       "      <td>4</td>\n",
       "      <td>2020-04-01</td>\n",
       "      <td>43.0</td>\n",
       "      <td>0.0</td>\n",
       "      <td>2</td>\n",
       "      <td>65603</td>\n",
       "      <td>2019-12-07</td>\n",
       "      <td>2020-04-27</td>\n",
       "      <td>2</td>\n",
       "      <td>2</td>\n",
       "      <td>...</td>\n",
       "      <td>0.0</td>\n",
       "      <td>0.0</td>\n",
       "      <td>0.0</td>\n",
       "      <td>0.0</td>\n",
       "      <td>0.0</td>\n",
       "      <td>0.0</td>\n",
       "      <td>0.0</td>\n",
       "      <td>0.0</td>\n",
       "      <td>0.0</td>\n",
       "      <td>0.0</td>\n",
       "    </tr>\n",
       "    <tr>\n",
       "      <th>3</th>\n",
       "      <td>5</td>\n",
       "      <td>2019-03-01</td>\n",
       "      <td>29.0</td>\n",
       "      <td>0.0</td>\n",
       "      <td>0</td>\n",
       "      <td>46368</td>\n",
       "      <td>2019-01-09</td>\n",
       "      <td>2019-03-07</td>\n",
       "      <td>1</td>\n",
       "      <td>1</td>\n",
       "      <td>...</td>\n",
       "      <td>0.0</td>\n",
       "      <td>0.0</td>\n",
       "      <td>0.0</td>\n",
       "      <td>0.0</td>\n",
       "      <td>0.0</td>\n",
       "      <td>0.0</td>\n",
       "      <td>0.0</td>\n",
       "      <td>0.0</td>\n",
       "      <td>0.0</td>\n",
       "      <td>1.0</td>\n",
       "    </tr>\n",
       "    <tr>\n",
       "      <th>4</th>\n",
       "      <td>6</td>\n",
       "      <td>2020-12-01</td>\n",
       "      <td>31.0</td>\n",
       "      <td>1.0</td>\n",
       "      <td>1</td>\n",
       "      <td>78728</td>\n",
       "      <td>2020-07-31</td>\n",
       "      <td>NaT</td>\n",
       "      <td>3</td>\n",
       "      <td>3</td>\n",
       "      <td>...</td>\n",
       "      <td>0.0</td>\n",
       "      <td>0.0</td>\n",
       "      <td>0.0</td>\n",
       "      <td>0.0</td>\n",
       "      <td>0.0</td>\n",
       "      <td>0.0</td>\n",
       "      <td>0.0</td>\n",
       "      <td>0.0</td>\n",
       "      <td>0.0</td>\n",
       "      <td>0.0</td>\n",
       "    </tr>\n",
       "  </tbody>\n",
       "</table>\n",
       "<p>5 rows × 45 columns</p>\n",
       "</div>"
      ],
      "text/plain": [
       "   Driver_ID     MMM-YY   Age  Gender  Education_Level  Income Dateofjoining  \\\n",
       "0          1 2019-03-01  28.0     0.0                2   57387    2018-12-24   \n",
       "1          2 2020-12-01  31.0     0.0                2   67016    2020-11-06   \n",
       "2          4 2020-04-01  43.0     0.0                2   65603    2019-12-07   \n",
       "3          5 2019-03-01  29.0     0.0                0   46368    2019-01-09   \n",
       "4          6 2020-12-01  31.0     1.0                1   78728    2020-07-31   \n",
       "\n",
       "  LastWorkingDate  Joining Designation  Grade  ...  C27  C28  C29   C3   C4  \\\n",
       "0      2019-03-11                    1      1  ...  0.0  0.0  0.0  0.0  0.0   \n",
       "1             NaT                    2      2  ...  0.0  0.0  0.0  0.0  0.0   \n",
       "2      2020-04-27                    2      2  ...  0.0  0.0  0.0  0.0  0.0   \n",
       "3      2019-03-07                    1      1  ...  0.0  0.0  0.0  0.0  0.0   \n",
       "4             NaT                    3      3  ...  0.0  0.0  0.0  0.0  0.0   \n",
       "\n",
       "    C5   C6   C7   C8   C9  \n",
       "0  0.0  0.0  0.0  0.0  0.0  \n",
       "1  0.0  0.0  1.0  0.0  0.0  \n",
       "2  0.0  0.0  0.0  0.0  0.0  \n",
       "3  0.0  0.0  0.0  0.0  1.0  \n",
       "4  0.0  0.0  0.0  0.0  0.0  \n",
       "\n",
       "[5 rows x 45 columns]"
      ]
     },
     "execution_count": 1062,
     "metadata": {},
     "output_type": "execute_result"
    }
   ],
   "source": [
    "df = pd.concat([df, features], axis=1)\n",
    "df.drop(columns=['City'], inplace=True)\n",
    "df.head()"
   ]
  },
  {
   "cell_type": "markdown",
   "id": "9640a1c2",
   "metadata": {},
   "source": [
    "### **Data preparation for modeling and testing**"
   ]
  },
  {
   "cell_type": "code",
   "execution_count": 1063,
   "id": "c7f59c4a",
   "metadata": {},
   "outputs": [
    {
     "data": {
      "text/plain": [
       "Index(['Driver_ID', 'MMM-YY', 'Age', 'Gender', 'Education_Level', 'Income',\n",
       "       'Dateofjoining', 'LastWorkingDate', 'Joining Designation', 'Grade',\n",
       "       'Total Business Value', 'Quarterly Rating', 'churn',\n",
       "       'is_rating_increased', 'target', 'is_monthlyinc_increased', 'C1', 'C10',\n",
       "       'C11', 'C12', 'C13', 'C14', 'C15', 'C16', 'C17', 'C18', 'C19', 'C2',\n",
       "       'C20', 'C21', 'C22', 'C23', 'C24', 'C25', 'C26', 'C27', 'C28', 'C29',\n",
       "       'C3', 'C4', 'C5', 'C6', 'C7', 'C8', 'C9'],\n",
       "      dtype='object')"
      ]
     },
     "execution_count": 1063,
     "metadata": {},
     "output_type": "execute_result"
    }
   ],
   "source": [
    "df.columns"
   ]
  },
  {
   "cell_type": "code",
   "execution_count": 1064,
   "id": "637bf252",
   "metadata": {},
   "outputs": [
    {
     "data": {
      "text/plain": [
       "(2381, 40)"
      ]
     },
     "execution_count": 1064,
     "metadata": {},
     "output_type": "execute_result"
    }
   ],
   "source": [
    "df_final = df.drop(columns=['Driver_ID', 'MMM-YY', 'Dateofjoining', 'LastWorkingDate', 'churn'])\n",
    "df_final.shape"
   ]
  },
  {
   "cell_type": "code",
   "execution_count": 1065,
   "id": "90b13216",
   "metadata": {},
   "outputs": [
    {
     "data": {
      "text/plain": [
       "Index(['Age', 'Gender', 'Education_Level', 'Income', 'Joining Designation',\n",
       "       'Grade', 'Total Business Value', 'Quarterly Rating',\n",
       "       'is_rating_increased', 'target', 'is_monthlyinc_increased', 'C1', 'C10',\n",
       "       'C11', 'C12', 'C13', 'C14', 'C15', 'C16', 'C17', 'C18', 'C19', 'C2',\n",
       "       'C20', 'C21', 'C22', 'C23', 'C24', 'C25', 'C26', 'C27', 'C28', 'C29',\n",
       "       'C3', 'C4', 'C5', 'C6', 'C7', 'C8', 'C9'],\n",
       "      dtype='object')"
      ]
     },
     "execution_count": 1065,
     "metadata": {},
     "output_type": "execute_result"
    }
   ],
   "source": [
    "df_final.columns"
   ]
  },
  {
   "cell_type": "code",
   "execution_count": 1066,
   "id": "105c68f0",
   "metadata": {},
   "outputs": [],
   "source": [
    "##target variable\n",
    "y = df_final['target']\n",
    "\n",
    "##input data\n",
    "X = df_final.drop(columns=['target'])"
   ]
  },
  {
   "cell_type": "code",
   "execution_count": 1067,
   "id": "5864413c",
   "metadata": {},
   "outputs": [],
   "source": [
    "##splitting data into train, cv, test\n",
    "\n",
    "X_train_cv, X_test, y_train_cv, y_test = train_test_split(X, y, test_size=0.2, random_state=1)\n",
    "X_train, X_val, y_train, y_val = train_test_split(X_train_cv, y_train_cv, test_size=0.25, random_state=1)"
   ]
  },
  {
   "cell_type": "code",
   "execution_count": 1068,
   "id": "d1d4f252",
   "metadata": {},
   "outputs": [
    {
     "name": "stdout",
     "output_type": "stream",
     "text": [
      "(1428, 39) (476, 39) (477, 39)\n"
     ]
    }
   ],
   "source": [
    "print(X_train.shape, X_val.shape, X_test.shape)"
   ]
  },
  {
   "cell_type": "markdown",
   "id": "f574be6d",
   "metadata": {},
   "source": [
    "### **Standardization**"
   ]
  },
  {
   "cell_type": "code",
   "execution_count": 1069,
   "id": "7e9d120b",
   "metadata": {},
   "outputs": [],
   "source": [
    "##scaling data\n",
    "scaler = MinMaxScaler()\n",
    "scaler.fit(X_train[X_train.columns])\n",
    "df_train = X_train.copy()\n",
    "X_train = scaler.transform(X_train[X_train.columns])  # returns numpy.ndarray not df.\n",
    "\n",
    "##transforming val and test data\n",
    "X_test = scaler.transform(X_test[X_test.columns])\n",
    "\n",
    "X_val = scaler.transform(X_val[X_val.columns])"
   ]
  },
  {
   "cell_type": "markdown",
   "id": "c228b101",
   "metadata": {},
   "source": [
    "### **Class Imbalance treatment**"
   ]
  },
  {
   "cell_type": "code",
   "execution_count": 1070,
   "id": "d678a01d",
   "metadata": {},
   "outputs": [],
   "source": [
    "#SMOTE over_sampling for imbalanced data\n",
    "sm = SMOTE()"
   ]
  },
  {
   "cell_type": "code",
   "execution_count": 1071,
   "id": "77ee13c0",
   "metadata": {},
   "outputs": [],
   "source": [
    "X_sm, y_sm = sm.fit_resample(X_train, y_train)"
   ]
  },
  {
   "cell_type": "code",
   "execution_count": 1072,
   "id": "3cbd4421",
   "metadata": {},
   "outputs": [
    {
     "data": {
      "text/plain": [
       "(1954, 39)"
      ]
     },
     "execution_count": 1072,
     "metadata": {},
     "output_type": "execute_result"
    }
   ],
   "source": [
    "X_sm.shape"
   ]
  },
  {
   "cell_type": "markdown",
   "id": "92164cc3",
   "metadata": {},
   "source": [
    "# **Model Building**"
   ]
  },
  {
   "cell_type": "markdown",
   "id": "058f3501",
   "metadata": {},
   "source": [
    "### **DecisionTreeClassifier**"
   ]
  },
  {
   "cell_type": "code",
   "execution_count": 1073,
   "id": "5fb7e626",
   "metadata": {},
   "outputs": [],
   "source": [
    "from sklearn.tree import DecisionTreeClassifier as DTC\n",
    "from sklearn.model_selection import GridSearchCV"
   ]
  },
  {
   "cell_type": "code",
   "execution_count": 1074,
   "id": "34949482",
   "metadata": {},
   "outputs": [
    {
     "data": {
      "text/html": [
       "<style>#sk-container-id-34 {color: black;background-color: white;}#sk-container-id-34 pre{padding: 0;}#sk-container-id-34 div.sk-toggleable {background-color: white;}#sk-container-id-34 label.sk-toggleable__label {cursor: pointer;display: block;width: 100%;margin-bottom: 0;padding: 0.3em;box-sizing: border-box;text-align: center;}#sk-container-id-34 label.sk-toggleable__label-arrow:before {content: \"▸\";float: left;margin-right: 0.25em;color: #696969;}#sk-container-id-34 label.sk-toggleable__label-arrow:hover:before {color: black;}#sk-container-id-34 div.sk-estimator:hover label.sk-toggleable__label-arrow:before {color: black;}#sk-container-id-34 div.sk-toggleable__content {max-height: 0;max-width: 0;overflow: hidden;text-align: left;background-color: #f0f8ff;}#sk-container-id-34 div.sk-toggleable__content pre {margin: 0.2em;color: black;border-radius: 0.25em;background-color: #f0f8ff;}#sk-container-id-34 input.sk-toggleable__control:checked~div.sk-toggleable__content {max-height: 200px;max-width: 100%;overflow: auto;}#sk-container-id-34 input.sk-toggleable__control:checked~label.sk-toggleable__label-arrow:before {content: \"▾\";}#sk-container-id-34 div.sk-estimator input.sk-toggleable__control:checked~label.sk-toggleable__label {background-color: #d4ebff;}#sk-container-id-34 div.sk-label input.sk-toggleable__control:checked~label.sk-toggleable__label {background-color: #d4ebff;}#sk-container-id-34 input.sk-hidden--visually {border: 0;clip: rect(1px 1px 1px 1px);clip: rect(1px, 1px, 1px, 1px);height: 1px;margin: -1px;overflow: hidden;padding: 0;position: absolute;width: 1px;}#sk-container-id-34 div.sk-estimator {font-family: monospace;background-color: #f0f8ff;border: 1px dotted black;border-radius: 0.25em;box-sizing: border-box;margin-bottom: 0.5em;}#sk-container-id-34 div.sk-estimator:hover {background-color: #d4ebff;}#sk-container-id-34 div.sk-parallel-item::after {content: \"\";width: 100%;border-bottom: 1px solid gray;flex-grow: 1;}#sk-container-id-34 div.sk-label:hover label.sk-toggleable__label {background-color: #d4ebff;}#sk-container-id-34 div.sk-serial::before {content: \"\";position: absolute;border-left: 1px solid gray;box-sizing: border-box;top: 0;bottom: 0;left: 50%;z-index: 0;}#sk-container-id-34 div.sk-serial {display: flex;flex-direction: column;align-items: center;background-color: white;padding-right: 0.2em;padding-left: 0.2em;position: relative;}#sk-container-id-34 div.sk-item {position: relative;z-index: 1;}#sk-container-id-34 div.sk-parallel {display: flex;align-items: stretch;justify-content: center;background-color: white;position: relative;}#sk-container-id-34 div.sk-item::before, #sk-container-id-34 div.sk-parallel-item::before {content: \"\";position: absolute;border-left: 1px solid gray;box-sizing: border-box;top: 0;bottom: 0;left: 50%;z-index: -1;}#sk-container-id-34 div.sk-parallel-item {display: flex;flex-direction: column;z-index: 1;position: relative;background-color: white;}#sk-container-id-34 div.sk-parallel-item:first-child::after {align-self: flex-end;width: 50%;}#sk-container-id-34 div.sk-parallel-item:last-child::after {align-self: flex-start;width: 50%;}#sk-container-id-34 div.sk-parallel-item:only-child::after {width: 0;}#sk-container-id-34 div.sk-dashed-wrapped {border: 1px dashed gray;margin: 0 0.4em 0.5em 0.4em;box-sizing: border-box;padding-bottom: 0.4em;background-color: white;}#sk-container-id-34 div.sk-label label {font-family: monospace;font-weight: bold;display: inline-block;line-height: 1.2em;}#sk-container-id-34 div.sk-label-container {text-align: center;}#sk-container-id-34 div.sk-container {/* jupyter's `normalize.less` sets `[hidden] { display: none; }` but bootstrap.min.css set `[hidden] { display: none !important; }` so we also need the `!important` here to be able to override the default hidden behavior on the sphinx rendered scikit-learn.org. See: https://github.com/scikit-learn/scikit-learn/issues/21755 */display: inline-block !important;position: relative;}#sk-container-id-34 div.sk-text-repr-fallback {display: none;}</style><div id=\"sk-container-id-34\" class=\"sk-top-container\"><div class=\"sk-text-repr-fallback\"><pre>GridSearchCV(cv=5, estimator=DecisionTreeClassifier(),\n",
       "             param_grid={&#x27;max_depth&#x27;: [3, 5, 7],\n",
       "                         &#x27;max_leaf_nodes&#x27;: [15, 20, 25]},\n",
       "             scoring=&#x27;accuracy&#x27;)</pre><b>In a Jupyter environment, please rerun this cell to show the HTML representation or trust the notebook. <br />On GitHub, the HTML representation is unable to render, please try loading this page with nbviewer.org.</b></div><div class=\"sk-container\" hidden><div class=\"sk-item sk-dashed-wrapped\"><div class=\"sk-label-container\"><div class=\"sk-label sk-toggleable\"><input class=\"sk-toggleable__control sk-hidden--visually\" id=\"sk-estimator-id-44\" type=\"checkbox\" ><label for=\"sk-estimator-id-44\" class=\"sk-toggleable__label sk-toggleable__label-arrow\">GridSearchCV</label><div class=\"sk-toggleable__content\"><pre>GridSearchCV(cv=5, estimator=DecisionTreeClassifier(),\n",
       "             param_grid={&#x27;max_depth&#x27;: [3, 5, 7],\n",
       "                         &#x27;max_leaf_nodes&#x27;: [15, 20, 25]},\n",
       "             scoring=&#x27;accuracy&#x27;)</pre></div></div></div><div class=\"sk-parallel\"><div class=\"sk-parallel-item\"><div class=\"sk-item\"><div class=\"sk-label-container\"><div class=\"sk-label sk-toggleable\"><input class=\"sk-toggleable__control sk-hidden--visually\" id=\"sk-estimator-id-45\" type=\"checkbox\" ><label for=\"sk-estimator-id-45\" class=\"sk-toggleable__label sk-toggleable__label-arrow\">estimator: DecisionTreeClassifier</label><div class=\"sk-toggleable__content\"><pre>DecisionTreeClassifier()</pre></div></div></div><div class=\"sk-serial\"><div class=\"sk-item\"><div class=\"sk-estimator sk-toggleable\"><input class=\"sk-toggleable__control sk-hidden--visually\" id=\"sk-estimator-id-46\" type=\"checkbox\" ><label for=\"sk-estimator-id-46\" class=\"sk-toggleable__label sk-toggleable__label-arrow\">DecisionTreeClassifier</label><div class=\"sk-toggleable__content\"><pre>DecisionTreeClassifier()</pre></div></div></div></div></div></div></div></div></div></div>"
      ],
      "text/plain": [
       "GridSearchCV(cv=5, estimator=DecisionTreeClassifier(),\n",
       "             param_grid={'max_depth': [3, 5, 7],\n",
       "                         'max_leaf_nodes': [15, 20, 25]},\n",
       "             scoring='accuracy')"
      ]
     },
     "execution_count": 1074,
     "metadata": {},
     "output_type": "execute_result"
    }
   ],
   "source": [
    "params = {\n",
    "    \"max_depth\" : [3, 5, 7],\n",
    "    \"max_leaf_nodes\" : [15, 20, 25]\n",
    "}\n",
    "\n",
    "dtc_model = DTC()\n",
    "clf = GridSearchCV(dtc_model, params, scoring = \"accuracy\", cv=5)\n",
    "\n",
    "clf.fit(X_sm, y_sm)"
   ]
  },
  {
   "cell_type": "code",
   "execution_count": 1075,
   "id": "ed72a623",
   "metadata": {},
   "outputs": [
    {
     "name": "stdout",
     "output_type": "stream",
     "text": [
      "Parameters:{'max_depth': 3, 'max_leaf_nodes': 15} Mean_score: 0.7784261263033642 Rank: 8\n",
      "Parameters:{'max_depth': 3, 'max_leaf_nodes': 20} Mean_score: 0.7784261263033642 Rank: 8\n",
      "Parameters:{'max_depth': 3, 'max_leaf_nodes': 25} Mean_score: 0.7804774083546463 Rank: 7\n",
      "Parameters:{'max_depth': 5, 'max_leaf_nodes': 15} Mean_score: 0.8055675782018493 Rank: 2\n",
      "Parameters:{'max_depth': 5, 'max_leaf_nodes': 20} Mean_score: 0.8040304282248016 Rank: 4\n",
      "Parameters:{'max_depth': 5, 'max_leaf_nodes': 25} Mean_score: 0.8050573808118564 Rank: 3\n",
      "Parameters:{'max_depth': 7, 'max_leaf_nodes': 15} Mean_score: 0.8117069971801432 Rank: 1\n",
      "Parameters:{'max_depth': 7, 'max_leaf_nodes': 20} Mean_score: 0.8019896386648305 Rank: 5\n",
      "Parameters:{'max_depth': 7, 'max_leaf_nodes': 25} Mean_score: 0.7999344219293069 Rank: 6\n"
     ]
    }
   ],
   "source": [
    "res = clf.cv_results_\n",
    "\n",
    "for i in range(len(res[\"params\"])):\n",
    "  print(f\"Parameters:{res['params'][i]} Mean_score: {res['mean_test_score'][i]} Rank: {res['rank_test_score'][i]}\")"
   ]
  },
  {
   "cell_type": "code",
   "execution_count": 1076,
   "id": "d9932f8a",
   "metadata": {},
   "outputs": [
    {
     "name": "stdout",
     "output_type": "stream",
     "text": [
      "DecisionTreeClassifier(max_depth=7, max_leaf_nodes=15)\n"
     ]
    }
   ],
   "source": [
    "print(clf.best_estimator_)"
   ]
  },
  {
   "cell_type": "code",
   "execution_count": 1077,
   "id": "187d4d30",
   "metadata": {},
   "outputs": [
    {
     "name": "stdout",
     "output_type": "stream",
     "text": [
      "0.80083857442348\n"
     ]
    }
   ],
   "source": [
    "dtc_model = clf.best_estimator_\n",
    "\n",
    "dtc_model.fit(X_sm, y_sm)\n",
    "\n",
    "print(dtc_model.score(X_test, y_test))"
   ]
  },
  {
   "cell_type": "markdown",
   "id": "2840cf67",
   "metadata": {},
   "source": [
    "### **Ensemble - Bagging Algorithm**"
   ]
  },
  {
   "cell_type": "markdown",
   "id": "fe78b810",
   "metadata": {},
   "source": [
    "**Random Forest**"
   ]
  },
  {
   "cell_type": "code",
   "execution_count": 1078,
   "id": "bd405308",
   "metadata": {},
   "outputs": [],
   "source": [
    "from sklearn.ensemble import RandomForestClassifier as RFC\n",
    "from sklearn.model_selection import RandomizedSearchCV"
   ]
  },
  {
   "cell_type": "code",
   "execution_count": 1079,
   "id": "7a8ae58b",
   "metadata": {},
   "outputs": [
    {
     "name": "stdout",
     "output_type": "stream",
     "text": [
      "Fitting 3 folds for each of 10 candidates, totalling 30 fits\n"
     ]
    }
   ],
   "source": [
    "params = {\n",
    "    \"n_estimators\": [10,25,50,100,150,200],\n",
    "    \"max_depth\" : [3, 5, 7],\n",
    "    \"max_leaf_nodes\" : [15, 20, 25]\n",
    "}\n",
    "\n",
    "rfc = RFC(n_jobs = -1)\n",
    "clf = RandomizedSearchCV(rfc, params, scoring = \"accuracy\", cv=3, n_jobs = -1, verbose = 1)\n",
    "\n",
    "clf.fit(X_sm, y_sm)"
   ]
  },
  {
   "cell_type": "code",
   "execution_count": 1080,
   "id": "fb7b8aec",
   "metadata": {},
   "outputs": [
    {
     "name": "stdout",
     "output_type": "stream",
     "text": [
      "RandomForestClassifier(max_depth=7, max_leaf_nodes=20, n_estimators=200,\n",
      "                       n_jobs=-1)\n"
     ]
    }
   ],
   "source": [
    "print(clf.best_estimator_)"
   ]
  },
  {
   "cell_type": "code",
   "execution_count": 1081,
   "id": "1b80c530",
   "metadata": {},
   "outputs": [
    {
     "name": "stdout",
     "output_type": "stream",
     "text": [
      "Model acc 0.8197064989517819\n"
     ]
    }
   ],
   "source": [
    "rf = clf.best_estimator_\n",
    "\n",
    "rf.fit(X_sm, y_sm)\n",
    "\n",
    "print(\"Model acc\",rf.score(X_test, y_test))"
   ]
  },
  {
   "cell_type": "markdown",
   "id": "1b2dcb9d",
   "metadata": {},
   "source": [
    "### **Ensemble - Boosting Algorithm**"
   ]
  },
  {
   "cell_type": "markdown",
   "id": "cd2f0c29",
   "metadata": {},
   "source": [
    "**Gradient Boosting**"
   ]
  },
  {
   "cell_type": "code",
   "execution_count": 1082,
   "id": "994cfc14",
   "metadata": {},
   "outputs": [
    {
     "name": "stdout",
     "output_type": "stream",
     "text": [
      "Time taken for training : 0:00:00.732172\n",
      "Training accuracy:0.9872057318321392\n",
      "Test Accuracy: 0.80083857442348\n"
     ]
    }
   ],
   "source": [
    "from sklearn.ensemble import GradientBoostingClassifier as GBC\n",
    "import datetime as dt\n",
    "\n",
    "start = dt.datetime.now()\n",
    "gbc = GBC(n_estimators=150, learning_rate=0.2, max_depth=4, random_state=0).fit(X_sm, y_sm)\n",
    "end = dt.datetime.now()\n",
    "\n",
    "print(f\"Time taken for training : {end - start}\\nTraining accuracy:{gbc.score(X_sm, y_sm)}\\nTest Accuracy: {gbc.score(X_test, y_test)}\")"
   ]
  },
  {
   "cell_type": "code",
   "execution_count": 1083,
   "id": "9a1fa671",
   "metadata": {},
   "outputs": [
    {
     "data": {
      "image/png": "[encoded data removed]",
      "text/plain": [
       "<Figure size 432x288 with 1 Axes>"
      ]
     },
     "metadata": {
      "needs_background": "light"
     },
     "output_type": "display_data"
    }
   ],
   "source": [
    "plt.plot(gbc.train_score_)\n",
    "\n",
    "plt.xlabel('Iter')\n",
    "plt.ylabel('loss')\n",
    "plt.title('Iter vs loss')\n",
    "plt.show()"
   ]
  },
  {
   "cell_type": "markdown",
   "id": "c008c3a8",
   "metadata": {},
   "source": [
    "**XGBoost**"
   ]
  },
  {
   "cell_type": "code",
   "execution_count": 1084,
   "id": "aecc95a8",
   "metadata": {},
   "outputs": [],
   "source": [
    "from xgboost import XGBClassifier\n",
    "from sklearn.model_selection import RandomizedSearchCV, GridSearchCV\n",
    "from sklearn.model_selection import StratifiedKFold\n",
    "import datetime as dt"
   ]
  },
  {
   "cell_type": "code",
   "execution_count": 1085,
   "id": "be2f9495",
   "metadata": {},
   "outputs": [],
   "source": [
    "params = {\n",
    "        'learning_rate': [0.06, 0.1, 0.2, 0.4, 0.6],\n",
    "        'subsample': [0.3, 0.4, 0.6, 0.8],\n",
    "        'colsample_bytree': [0.3, 0.4, 0.6, 0.8],\n",
    "        'max_depth': [3, 4, 5],\n",
    "        'n_estimators': [125, 150, 175]\n",
    "        }\n",
    "xgb = XGBClassifier(silent=True)"
   ]
  },
  {
   "cell_type": "code",
   "execution_count": 1086,
   "id": "9f481b37",
   "metadata": {},
   "outputs": [],
   "source": [
    "folds = 3\n",
    "\n",
    "skf = StratifiedKFold(n_splits=folds, shuffle = True, random_state = 1001)\n",
    "\n",
    "grid_search = GridSearchCV(xgb, params, scoring='accuracy', n_jobs=-1, cv=skf.split(X_sm,y_sm))\n",
    "\n",
    "\n",
    "start = dt.datetime.now()\n",
    "grid_search.fit(X_sm, y_sm)\n",
    "end = dt.datetime.now()"
   ]
  },
  {
   "cell_type": "code",
   "execution_count": 1087,
   "id": "451d8898",
   "metadata": {},
   "outputs": [
    {
     "name": "stdout",
     "output_type": "stream",
     "text": [
      "\n",
      " Best hyperparameters:\n",
      "{'colsample_bytree': 0.8, 'learning_rate': 0.06, 'max_depth': 5, 'n_estimators': 150, 'subsample': 0.8}\n"
     ]
    }
   ],
   "source": [
    "print('\\n Best hyperparameters:')\n",
    "print(grid_search.best_params_)"
   ]
  },
  {
   "cell_type": "code",
   "execution_count": 1088,
   "id": "5ee05b09",
   "metadata": {},
   "outputs": [
    {
     "data": {
      "text/html": [
       "<style>#sk-container-id-35 {color: black;background-color: white;}#sk-container-id-35 pre{padding: 0;}#sk-container-id-35 div.sk-toggleable {background-color: white;}#sk-container-id-35 label.sk-toggleable__label {cursor: pointer;display: block;width: 100%;margin-bottom: 0;padding: 0.3em;box-sizing: border-box;text-align: center;}#sk-container-id-35 label.sk-toggleable__label-arrow:before {content: \"▸\";float: left;margin-right: 0.25em;color: #696969;}#sk-container-id-35 label.sk-toggleable__label-arrow:hover:before {color: black;}#sk-container-id-35 div.sk-estimator:hover label.sk-toggleable__label-arrow:before {color: black;}#sk-container-id-35 div.sk-toggleable__content {max-height: 0;max-width: 0;overflow: hidden;text-align: left;background-color: #f0f8ff;}#sk-container-id-35 div.sk-toggleable__content pre {margin: 0.2em;color: black;border-radius: 0.25em;background-color: #f0f8ff;}#sk-container-id-35 input.sk-toggleable__control:checked~div.sk-toggleable__content {max-height: 200px;max-width: 100%;overflow: auto;}#sk-container-id-35 input.sk-toggleable__control:checked~label.sk-toggleable__label-arrow:before {content: \"▾\";}#sk-container-id-35 div.sk-estimator input.sk-toggleable__control:checked~label.sk-toggleable__label {background-color: #d4ebff;}#sk-container-id-35 div.sk-label input.sk-toggleable__control:checked~label.sk-toggleable__label {background-color: #d4ebff;}#sk-container-id-35 input.sk-hidden--visually {border: 0;clip: rect(1px 1px 1px 1px);clip: rect(1px, 1px, 1px, 1px);height: 1px;margin: -1px;overflow: hidden;padding: 0;position: absolute;width: 1px;}#sk-container-id-35 div.sk-estimator {font-family: monospace;background-color: #f0f8ff;border: 1px dotted black;border-radius: 0.25em;box-sizing: border-box;margin-bottom: 0.5em;}#sk-container-id-35 div.sk-estimator:hover {background-color: #d4ebff;}#sk-container-id-35 div.sk-parallel-item::after {content: \"\";width: 100%;border-bottom: 1px solid gray;flex-grow: 1;}#sk-container-id-35 div.sk-label:hover label.sk-toggleable__label {background-color: #d4ebff;}#sk-container-id-35 div.sk-serial::before {content: \"\";position: absolute;border-left: 1px solid gray;box-sizing: border-box;top: 0;bottom: 0;left: 50%;z-index: 0;}#sk-container-id-35 div.sk-serial {display: flex;flex-direction: column;align-items: center;background-color: white;padding-right: 0.2em;padding-left: 0.2em;position: relative;}#sk-container-id-35 div.sk-item {position: relative;z-index: 1;}#sk-container-id-35 div.sk-parallel {display: flex;align-items: stretch;justify-content: center;background-color: white;position: relative;}#sk-container-id-35 div.sk-item::before, #sk-container-id-35 div.sk-parallel-item::before {content: \"\";position: absolute;border-left: 1px solid gray;box-sizing: border-box;top: 0;bottom: 0;left: 50%;z-index: -1;}#sk-container-id-35 div.sk-parallel-item {display: flex;flex-direction: column;z-index: 1;position: relative;background-color: white;}#sk-container-id-35 div.sk-parallel-item:first-child::after {align-self: flex-end;width: 50%;}#sk-container-id-35 div.sk-parallel-item:last-child::after {align-self: flex-start;width: 50%;}#sk-container-id-35 div.sk-parallel-item:only-child::after {width: 0;}#sk-container-id-35 div.sk-dashed-wrapped {border: 1px dashed gray;margin: 0 0.4em 0.5em 0.4em;box-sizing: border-box;padding-bottom: 0.4em;background-color: white;}#sk-container-id-35 div.sk-label label {font-family: monospace;font-weight: bold;display: inline-block;line-height: 1.2em;}#sk-container-id-35 div.sk-label-container {text-align: center;}#sk-container-id-35 div.sk-container {/* jupyter's `normalize.less` sets `[hidden] { display: none; }` but bootstrap.min.css set `[hidden] { display: none !important; }` so we also need the `!important` here to be able to override the default hidden behavior on the sphinx rendered scikit-learn.org. See: https://github.com/scikit-learn/scikit-learn/issues/21755 */display: inline-block !important;position: relative;}#sk-container-id-35 div.sk-text-repr-fallback {display: none;}</style><div id=\"sk-container-id-35\" class=\"sk-top-container\"><div class=\"sk-text-repr-fallback\"><pre>XGBClassifier(base_score=0.5, booster=None, colsample_bylevel=1,\n",
       "              colsample_bynode=1, colsample_bytree=0.6, gamma=0, gpu_id=-1,\n",
       "              importance_type=&#x27;gain&#x27;, interaction_constraints=None,\n",
       "              learning_rate=0.06, max_delta_step=0, max_depth=5,\n",
       "              min_child_weight=1, missing=nan, monotone_constraints=None,\n",
       "              n_estimators=175, n_jobs=0, num_parallel_tree=1, random_state=0,\n",
       "              reg_alpha=0, reg_lambda=1, scale_pos_weight=1, silent=True,\n",
       "              subsample=0.6, tree_method=None, validate_parameters=False,\n",
       "              verbosity=None)</pre><b>In a Jupyter environment, please rerun this cell to show the HTML representation or trust the notebook. <br />On GitHub, the HTML representation is unable to render, please try loading this page with nbviewer.org.</b></div><div class=\"sk-container\" hidden><div class=\"sk-item\"><div class=\"sk-estimator sk-toggleable\"><input class=\"sk-toggleable__control sk-hidden--visually\" id=\"sk-estimator-id-47\" type=\"checkbox\" checked><label for=\"sk-estimator-id-47\" class=\"sk-toggleable__label sk-toggleable__label-arrow\">XGBClassifier</label><div class=\"sk-toggleable__content\"><pre>XGBClassifier(base_score=0.5, booster=None, colsample_bylevel=1,\n",
       "              colsample_bynode=1, colsample_bytree=0.6, gamma=0, gpu_id=-1,\n",
       "              importance_type=&#x27;gain&#x27;, interaction_constraints=None,\n",
       "              learning_rate=0.06, max_delta_step=0, max_depth=5,\n",
       "              min_child_weight=1, missing=nan, monotone_constraints=None,\n",
       "              n_estimators=175, n_jobs=0, num_parallel_tree=1, random_state=0,\n",
       "              reg_alpha=0, reg_lambda=1, scale_pos_weight=1, silent=True,\n",
       "              subsample=0.6, tree_method=None, validate_parameters=False,\n",
       "              verbosity=None)</pre></div></div></div></div></div>"
      ],
      "text/plain": [
       "XGBClassifier(base_score=0.5, booster=None, colsample_bylevel=1,\n",
       "              colsample_bynode=1, colsample_bytree=0.6, gamma=0, gpu_id=-1,\n",
       "              importance_type='gain', interaction_constraints=None,\n",
       "              learning_rate=0.06, max_delta_step=0, max_depth=5,\n",
       "              min_child_weight=1, missing=nan, monotone_constraints=None,\n",
       "              n_estimators=175, n_jobs=0, num_parallel_tree=1, random_state=0,\n",
       "              reg_alpha=0, reg_lambda=1, scale_pos_weight=1, silent=True,\n",
       "              subsample=0.6, tree_method=None, validate_parameters=False,\n",
       "              verbosity=None)"
      ]
     },
     "execution_count": 1088,
     "metadata": {},
     "output_type": "execute_result"
    }
   ],
   "source": [
    "best_xgb = XGBClassifier(n_estimators=175, subsample=0.6, max_depth=5, learning_rate=0.06, colsample_bytree=0.6, silent=True)\n",
    "best_xgb.fit(X_sm, y_sm)"
   ]
  },
  {
   "cell_type": "code",
   "execution_count": 1089,
   "id": "bff31247",
   "metadata": {},
   "outputs": [
    {
     "name": "stdout",
     "output_type": "stream",
     "text": [
      "Time taken for training : 0:03:47.796244\n",
      "Training accuracy:0.9196519959058342\n",
      "Test Accuracy: 0.8218029350104822\n"
     ]
    }
   ],
   "source": [
    "print(f\"Time taken for training : {end - start}\\nTraining accuracy:{best_xgb.score(X_sm, y_sm)}\\nTest Accuracy: {best_xgb.score(X_test, y_test)}\")"
   ]
  },
  {
   "cell_type": "markdown",
   "id": "b0c5dad0",
   "metadata": {},
   "source": [
    "### **Feature Importance**"
   ]
  },
  {
   "cell_type": "code",
   "execution_count": 1090,
   "id": "4489e960",
   "metadata": {},
   "outputs": [
    {
     "name": "stdout",
     "output_type": "stream",
     "text": [
      "[0.01843571 0.02875685 0.02912733 0.01698088 0.05219487 0.04907594\n",
      " 0.02892354 0.1253906  0.10134501 0.02645308 0.01735362 0.02018533\n",
      " 0.01142109 0.00992452 0.02367815 0.01952606 0.01674458 0.01810396\n",
      " 0.0163741  0.01840518 0.01875165 0.01429379 0.01624138 0.02330503\n",
      " 0.01723162 0.01551516 0.01789555 0.02391636 0.02046102 0.01392226\n",
      " 0.01418739 0.02203643 0.01890856 0.0164425  0.01768811 0.01440419\n",
      " 0.02186519 0.02108886 0.02344452]\n"
     ]
    },
    {
     "data": {
      "image/png": "[encoded data removed]",
      "text/plain": [
       "<Figure size 432x288 with 1 Axes>"
      ]
     },
     "metadata": {
      "needs_background": "light"
     },
     "output_type": "display_data"
    }
   ],
   "source": [
    "print(best_xgb.feature_importances_)\n",
    "\n",
    "plt.bar(range(len(best_xgb.feature_importances_)), best_xgb.feature_importances_)\n",
    "plt.show()"
   ]
  },
  {
   "cell_type": "code",
   "execution_count": 1091,
   "id": "2947111d",
   "metadata": {},
   "outputs": [
    {
     "data": {
      "text/plain": [
       "Index(['Age', 'Gender', 'Education_Level', 'Income', 'Joining Designation',\n",
       "       'Grade', 'Total Business Value', 'Quarterly Rating',\n",
       "       'is_rating_increased', 'target', 'is_monthlyinc_increased', 'C1', 'C10',\n",
       "       'C11', 'C12', 'C13', 'C14', 'C15', 'C16', 'C17', 'C18', 'C19', 'C2',\n",
       "       'C20', 'C21', 'C22', 'C23', 'C24', 'C25', 'C26', 'C27', 'C28', 'C29',\n",
       "       'C3', 'C4', 'C5', 'C6', 'C7', 'C8', 'C9'],\n",
       "      dtype='object')"
      ]
     },
     "execution_count": 1091,
     "metadata": {},
     "output_type": "execute_result"
    }
   ],
   "source": [
    "df_final.columns"
   ]
  },
  {
   "cell_type": "markdown",
   "id": "2cb8123c",
   "metadata": {},
   "source": [
    "#### **Important Features**\n",
    "\n",
    "1. Recent Quarterly Rating\n",
    "2. Increase in Quareterly rating\n",
    "3. Joining Designation\n",
    "4. Grade"
   ]
  },
  {
   "cell_type": "markdown",
   "id": "b886d877",
   "metadata": {},
   "source": [
    "### **Summary of Models and Test Accuracies**"
   ]
  },
  {
   "cell_type": "markdown",
   "id": "17f53c65",
   "metadata": {},
   "source": [
    "**1. Decision Tree**"
   ]
  },
  {
   "cell_type": "code",
   "execution_count": 1092,
   "id": "0e9137f0",
   "metadata": {},
   "outputs": [
    {
     "data": {
      "text/html": [
       "<style>#sk-container-id-36 {color: black;background-color: white;}#sk-container-id-36 pre{padding: 0;}#sk-container-id-36 div.sk-toggleable {background-color: white;}#sk-container-id-36 label.sk-toggleable__label {cursor: pointer;display: block;width: 100%;margin-bottom: 0;padding: 0.3em;box-sizing: border-box;text-align: center;}#sk-container-id-36 label.sk-toggleable__label-arrow:before {content: \"▸\";float: left;margin-right: 0.25em;color: #696969;}#sk-container-id-36 label.sk-toggleable__label-arrow:hover:before {color: black;}#sk-container-id-36 div.sk-estimator:hover label.sk-toggleable__label-arrow:before {color: black;}#sk-container-id-36 div.sk-toggleable__content {max-height: 0;max-width: 0;overflow: hidden;text-align: left;background-color: #f0f8ff;}#sk-container-id-36 div.sk-toggleable__content pre {margin: 0.2em;color: black;border-radius: 0.25em;background-color: #f0f8ff;}#sk-container-id-36 input.sk-toggleable__control:checked~div.sk-toggleable__content {max-height: 200px;max-width: 100%;overflow: auto;}#sk-container-id-36 input.sk-toggleable__control:checked~label.sk-toggleable__label-arrow:before {content: \"▾\";}#sk-container-id-36 div.sk-estimator input.sk-toggleable__control:checked~label.sk-toggleable__label {background-color: #d4ebff;}#sk-container-id-36 div.sk-label input.sk-toggleable__control:checked~label.sk-toggleable__label {background-color: #d4ebff;}#sk-container-id-36 input.sk-hidden--visually {border: 0;clip: rect(1px 1px 1px 1px);clip: rect(1px, 1px, 1px, 1px);height: 1px;margin: -1px;overflow: hidden;padding: 0;position: absolute;width: 1px;}#sk-container-id-36 div.sk-estimator {font-family: monospace;background-color: #f0f8ff;border: 1px dotted black;border-radius: 0.25em;box-sizing: border-box;margin-bottom: 0.5em;}#sk-container-id-36 div.sk-estimator:hover {background-color: #d4ebff;}#sk-container-id-36 div.sk-parallel-item::after {content: \"\";width: 100%;border-bottom: 1px solid gray;flex-grow: 1;}#sk-container-id-36 div.sk-label:hover label.sk-toggleable__label {background-color: #d4ebff;}#sk-container-id-36 div.sk-serial::before {content: \"\";position: absolute;border-left: 1px solid gray;box-sizing: border-box;top: 0;bottom: 0;left: 50%;z-index: 0;}#sk-container-id-36 div.sk-serial {display: flex;flex-direction: column;align-items: center;background-color: white;padding-right: 0.2em;padding-left: 0.2em;position: relative;}#sk-container-id-36 div.sk-item {position: relative;z-index: 1;}#sk-container-id-36 div.sk-parallel {display: flex;align-items: stretch;justify-content: center;background-color: white;position: relative;}#sk-container-id-36 div.sk-item::before, #sk-container-id-36 div.sk-parallel-item::before {content: \"\";position: absolute;border-left: 1px solid gray;box-sizing: border-box;top: 0;bottom: 0;left: 50%;z-index: -1;}#sk-container-id-36 div.sk-parallel-item {display: flex;flex-direction: column;z-index: 1;position: relative;background-color: white;}#sk-container-id-36 div.sk-parallel-item:first-child::after {align-self: flex-end;width: 50%;}#sk-container-id-36 div.sk-parallel-item:last-child::after {align-self: flex-start;width: 50%;}#sk-container-id-36 div.sk-parallel-item:only-child::after {width: 0;}#sk-container-id-36 div.sk-dashed-wrapped {border: 1px dashed gray;margin: 0 0.4em 0.5em 0.4em;box-sizing: border-box;padding-bottom: 0.4em;background-color: white;}#sk-container-id-36 div.sk-label label {font-family: monospace;font-weight: bold;display: inline-block;line-height: 1.2em;}#sk-container-id-36 div.sk-label-container {text-align: center;}#sk-container-id-36 div.sk-container {/* jupyter's `normalize.less` sets `[hidden] { display: none; }` but bootstrap.min.css set `[hidden] { display: none !important; }` so we also need the `!important` here to be able to override the default hidden behavior on the sphinx rendered scikit-learn.org. See: https://github.com/scikit-learn/scikit-learn/issues/21755 */display: inline-block !important;position: relative;}#sk-container-id-36 div.sk-text-repr-fallback {display: none;}</style><div id=\"sk-container-id-36\" class=\"sk-top-container\"><div class=\"sk-text-repr-fallback\"><pre>DecisionTreeClassifier(max_depth=7, max_leaf_nodes=15)</pre><b>In a Jupyter environment, please rerun this cell to show the HTML representation or trust the notebook. <br />On GitHub, the HTML representation is unable to render, please try loading this page with nbviewer.org.</b></div><div class=\"sk-container\" hidden><div class=\"sk-item\"><div class=\"sk-estimator sk-toggleable\"><input class=\"sk-toggleable__control sk-hidden--visually\" id=\"sk-estimator-id-48\" type=\"checkbox\" checked><label for=\"sk-estimator-id-48\" class=\"sk-toggleable__label sk-toggleable__label-arrow\">DecisionTreeClassifier</label><div class=\"sk-toggleable__content\"><pre>DecisionTreeClassifier(max_depth=7, max_leaf_nodes=15)</pre></div></div></div></div></div>"
      ],
      "text/plain": [
       "DecisionTreeClassifier(max_depth=7, max_leaf_nodes=15)"
      ]
     },
     "execution_count": 1092,
     "metadata": {},
     "output_type": "execute_result"
    }
   ],
   "source": [
    "dtc_model"
   ]
  },
  {
   "cell_type": "code",
   "execution_count": 1093,
   "id": "8dc81a11",
   "metadata": {},
   "outputs": [
    {
     "data": {
      "text/plain": [
       "0.80083857442348"
      ]
     },
     "execution_count": 1093,
     "metadata": {},
     "output_type": "execute_result"
    }
   ],
   "source": [
    "dtc_model.score(X_test, y_test)"
   ]
  },
  {
   "cell_type": "markdown",
   "id": "18f07c10",
   "metadata": {},
   "source": [
    "**2. Random Forest**"
   ]
  },
  {
   "cell_type": "code",
   "execution_count": 1094,
   "id": "f016ea76",
   "metadata": {},
   "outputs": [
    {
     "data": {
      "text/html": [
       "<style>#sk-container-id-37 {color: black;background-color: white;}#sk-container-id-37 pre{padding: 0;}#sk-container-id-37 div.sk-toggleable {background-color: white;}#sk-container-id-37 label.sk-toggleable__label {cursor: pointer;display: block;width: 100%;margin-bottom: 0;padding: 0.3em;box-sizing: border-box;text-align: center;}#sk-container-id-37 label.sk-toggleable__label-arrow:before {content: \"▸\";float: left;margin-right: 0.25em;color: #696969;}#sk-container-id-37 label.sk-toggleable__label-arrow:hover:before {color: black;}#sk-container-id-37 div.sk-estimator:hover label.sk-toggleable__label-arrow:before {color: black;}#sk-container-id-37 div.sk-toggleable__content {max-height: 0;max-width: 0;overflow: hidden;text-align: left;background-color: #f0f8ff;}#sk-container-id-37 div.sk-toggleable__content pre {margin: 0.2em;color: black;border-radius: 0.25em;background-color: #f0f8ff;}#sk-container-id-37 input.sk-toggleable__control:checked~div.sk-toggleable__content {max-height: 200px;max-width: 100%;overflow: auto;}#sk-container-id-37 input.sk-toggleable__control:checked~label.sk-toggleable__label-arrow:before {content: \"▾\";}#sk-container-id-37 div.sk-estimator input.sk-toggleable__control:checked~label.sk-toggleable__label {background-color: #d4ebff;}#sk-container-id-37 div.sk-label input.sk-toggleable__control:checked~label.sk-toggleable__label {background-color: #d4ebff;}#sk-container-id-37 input.sk-hidden--visually {border: 0;clip: rect(1px 1px 1px 1px);clip: rect(1px, 1px, 1px, 1px);height: 1px;margin: -1px;overflow: hidden;padding: 0;position: absolute;width: 1px;}#sk-container-id-37 div.sk-estimator {font-family: monospace;background-color: #f0f8ff;border: 1px dotted black;border-radius: 0.25em;box-sizing: border-box;margin-bottom: 0.5em;}#sk-container-id-37 div.sk-estimator:hover {background-color: #d4ebff;}#sk-container-id-37 div.sk-parallel-item::after {content: \"\";width: 100%;border-bottom: 1px solid gray;flex-grow: 1;}#sk-container-id-37 div.sk-label:hover label.sk-toggleable__label {background-color: #d4ebff;}#sk-container-id-37 div.sk-serial::before {content: \"\";position: absolute;border-left: 1px solid gray;box-sizing: border-box;top: 0;bottom: 0;left: 50%;z-index: 0;}#sk-container-id-37 div.sk-serial {display: flex;flex-direction: column;align-items: center;background-color: white;padding-right: 0.2em;padding-left: 0.2em;position: relative;}#sk-container-id-37 div.sk-item {position: relative;z-index: 1;}#sk-container-id-37 div.sk-parallel {display: flex;align-items: stretch;justify-content: center;background-color: white;position: relative;}#sk-container-id-37 div.sk-item::before, #sk-container-id-37 div.sk-parallel-item::before {content: \"\";position: absolute;border-left: 1px solid gray;box-sizing: border-box;top: 0;bottom: 0;left: 50%;z-index: -1;}#sk-container-id-37 div.sk-parallel-item {display: flex;flex-direction: column;z-index: 1;position: relative;background-color: white;}#sk-container-id-37 div.sk-parallel-item:first-child::after {align-self: flex-end;width: 50%;}#sk-container-id-37 div.sk-parallel-item:last-child::after {align-self: flex-start;width: 50%;}#sk-container-id-37 div.sk-parallel-item:only-child::after {width: 0;}#sk-container-id-37 div.sk-dashed-wrapped {border: 1px dashed gray;margin: 0 0.4em 0.5em 0.4em;box-sizing: border-box;padding-bottom: 0.4em;background-color: white;}#sk-container-id-37 div.sk-label label {font-family: monospace;font-weight: bold;display: inline-block;line-height: 1.2em;}#sk-container-id-37 div.sk-label-container {text-align: center;}#sk-container-id-37 div.sk-container {/* jupyter's `normalize.less` sets `[hidden] { display: none; }` but bootstrap.min.css set `[hidden] { display: none !important; }` so we also need the `!important` here to be able to override the default hidden behavior on the sphinx rendered scikit-learn.org. See: https://github.com/scikit-learn/scikit-learn/issues/21755 */display: inline-block !important;position: relative;}#sk-container-id-37 div.sk-text-repr-fallback {display: none;}</style><div id=\"sk-container-id-37\" class=\"sk-top-container\"><div class=\"sk-text-repr-fallback\"><pre>RandomForestClassifier(max_depth=7, max_leaf_nodes=20, n_estimators=200,\n",
       "                       n_jobs=-1)</pre><b>In a Jupyter environment, please rerun this cell to show the HTML representation or trust the notebook. <br />On GitHub, the HTML representation is unable to render, please try loading this page with nbviewer.org.</b></div><div class=\"sk-container\" hidden><div class=\"sk-item\"><div class=\"sk-estimator sk-toggleable\"><input class=\"sk-toggleable__control sk-hidden--visually\" id=\"sk-estimator-id-49\" type=\"checkbox\" checked><label for=\"sk-estimator-id-49\" class=\"sk-toggleable__label sk-toggleable__label-arrow\">RandomForestClassifier</label><div class=\"sk-toggleable__content\"><pre>RandomForestClassifier(max_depth=7, max_leaf_nodes=20, n_estimators=200,\n",
       "                       n_jobs=-1)</pre></div></div></div></div></div>"
      ],
      "text/plain": [
       "RandomForestClassifier(max_depth=7, max_leaf_nodes=20, n_estimators=200,\n",
       "                       n_jobs=-1)"
      ]
     },
     "execution_count": 1094,
     "metadata": {},
     "output_type": "execute_result"
    }
   ],
   "source": [
    "rf"
   ]
  },
  {
   "cell_type": "code",
   "execution_count": 1095,
   "id": "ff30ba6e",
   "metadata": {},
   "outputs": [
    {
     "data": {
      "text/plain": [
       "0.8197064989517819"
      ]
     },
     "execution_count": 1095,
     "metadata": {},
     "output_type": "execute_result"
    }
   ],
   "source": [
    "rf.score(X_test, y_test)"
   ]
  },
  {
   "cell_type": "markdown",
   "id": "2b1b5a32",
   "metadata": {},
   "source": [
    "**3. Gradient boost**"
   ]
  },
  {
   "cell_type": "code",
   "execution_count": 1096,
   "id": "2e5c1441",
   "metadata": {},
   "outputs": [
    {
     "data": {
      "text/html": [
       "<style>#sk-container-id-38 {color: black;background-color: white;}#sk-container-id-38 pre{padding: 0;}#sk-container-id-38 div.sk-toggleable {background-color: white;}#sk-container-id-38 label.sk-toggleable__label {cursor: pointer;display: block;width: 100%;margin-bottom: 0;padding: 0.3em;box-sizing: border-box;text-align: center;}#sk-container-id-38 label.sk-toggleable__label-arrow:before {content: \"▸\";float: left;margin-right: 0.25em;color: #696969;}#sk-container-id-38 label.sk-toggleable__label-arrow:hover:before {color: black;}#sk-container-id-38 div.sk-estimator:hover label.sk-toggleable__label-arrow:before {color: black;}#sk-container-id-38 div.sk-toggleable__content {max-height: 0;max-width: 0;overflow: hidden;text-align: left;background-color: #f0f8ff;}#sk-container-id-38 div.sk-toggleable__content pre {margin: 0.2em;color: black;border-radius: 0.25em;background-color: #f0f8ff;}#sk-container-id-38 input.sk-toggleable__control:checked~div.sk-toggleable__content {max-height: 200px;max-width: 100%;overflow: auto;}#sk-container-id-38 input.sk-toggleable__control:checked~label.sk-toggleable__label-arrow:before {content: \"▾\";}#sk-container-id-38 div.sk-estimator input.sk-toggleable__control:checked~label.sk-toggleable__label {background-color: #d4ebff;}#sk-container-id-38 div.sk-label input.sk-toggleable__control:checked~label.sk-toggleable__label {background-color: #d4ebff;}#sk-container-id-38 input.sk-hidden--visually {border: 0;clip: rect(1px 1px 1px 1px);clip: rect(1px, 1px, 1px, 1px);height: 1px;margin: -1px;overflow: hidden;padding: 0;position: absolute;width: 1px;}#sk-container-id-38 div.sk-estimator {font-family: monospace;background-color: #f0f8ff;border: 1px dotted black;border-radius: 0.25em;box-sizing: border-box;margin-bottom: 0.5em;}#sk-container-id-38 div.sk-estimator:hover {background-color: #d4ebff;}#sk-container-id-38 div.sk-parallel-item::after {content: \"\";width: 100%;border-bottom: 1px solid gray;flex-grow: 1;}#sk-container-id-38 div.sk-label:hover label.sk-toggleable__label {background-color: #d4ebff;}#sk-container-id-38 div.sk-serial::before {content: \"\";position: absolute;border-left: 1px solid gray;box-sizing: border-box;top: 0;bottom: 0;left: 50%;z-index: 0;}#sk-container-id-38 div.sk-serial {display: flex;flex-direction: column;align-items: center;background-color: white;padding-right: 0.2em;padding-left: 0.2em;position: relative;}#sk-container-id-38 div.sk-item {position: relative;z-index: 1;}#sk-container-id-38 div.sk-parallel {display: flex;align-items: stretch;justify-content: center;background-color: white;position: relative;}#sk-container-id-38 div.sk-item::before, #sk-container-id-38 div.sk-parallel-item::before {content: \"\";position: absolute;border-left: 1px solid gray;box-sizing: border-box;top: 0;bottom: 0;left: 50%;z-index: -1;}#sk-container-id-38 div.sk-parallel-item {display: flex;flex-direction: column;z-index: 1;position: relative;background-color: white;}#sk-container-id-38 div.sk-parallel-item:first-child::after {align-self: flex-end;width: 50%;}#sk-container-id-38 div.sk-parallel-item:last-child::after {align-self: flex-start;width: 50%;}#sk-container-id-38 div.sk-parallel-item:only-child::after {width: 0;}#sk-container-id-38 div.sk-dashed-wrapped {border: 1px dashed gray;margin: 0 0.4em 0.5em 0.4em;box-sizing: border-box;padding-bottom: 0.4em;background-color: white;}#sk-container-id-38 div.sk-label label {font-family: monospace;font-weight: bold;display: inline-block;line-height: 1.2em;}#sk-container-id-38 div.sk-label-container {text-align: center;}#sk-container-id-38 div.sk-container {/* jupyter's `normalize.less` sets `[hidden] { display: none; }` but bootstrap.min.css set `[hidden] { display: none !important; }` so we also need the `!important` here to be able to override the default hidden behavior on the sphinx rendered scikit-learn.org. See: https://github.com/scikit-learn/scikit-learn/issues/21755 */display: inline-block !important;position: relative;}#sk-container-id-38 div.sk-text-repr-fallback {display: none;}</style><div id=\"sk-container-id-38\" class=\"sk-top-container\"><div class=\"sk-text-repr-fallback\"><pre>GradientBoostingClassifier(learning_rate=0.2, max_depth=4, n_estimators=150,\n",
       "                           random_state=0)</pre><b>In a Jupyter environment, please rerun this cell to show the HTML representation or trust the notebook. <br />On GitHub, the HTML representation is unable to render, please try loading this page with nbviewer.org.</b></div><div class=\"sk-container\" hidden><div class=\"sk-item\"><div class=\"sk-estimator sk-toggleable\"><input class=\"sk-toggleable__control sk-hidden--visually\" id=\"sk-estimator-id-50\" type=\"checkbox\" checked><label for=\"sk-estimator-id-50\" class=\"sk-toggleable__label sk-toggleable__label-arrow\">GradientBoostingClassifier</label><div class=\"sk-toggleable__content\"><pre>GradientBoostingClassifier(learning_rate=0.2, max_depth=4, n_estimators=150,\n",
       "                           random_state=0)</pre></div></div></div></div></div>"
      ],
      "text/plain": [
       "GradientBoostingClassifier(learning_rate=0.2, max_depth=4, n_estimators=150,\n",
       "                           random_state=0)"
      ]
     },
     "execution_count": 1096,
     "metadata": {},
     "output_type": "execute_result"
    }
   ],
   "source": [
    "gbc"
   ]
  },
  {
   "cell_type": "code",
   "execution_count": 1097,
   "id": "cd532b7c",
   "metadata": {},
   "outputs": [
    {
     "data": {
      "text/plain": [
       "0.80083857442348"
      ]
     },
     "execution_count": 1097,
     "metadata": {},
     "output_type": "execute_result"
    }
   ],
   "source": [
    "gbc.score(X_test, y_test)"
   ]
  },
  {
   "cell_type": "markdown",
   "id": "d7eb1aba",
   "metadata": {},
   "source": [
    "**4. XGBoost**"
   ]
  },
  {
   "cell_type": "code",
   "execution_count": 1098,
   "id": "ee5981e5",
   "metadata": {},
   "outputs": [
    {
     "data": {
      "text/html": [
       "<style>#sk-container-id-39 {color: black;background-color: white;}#sk-container-id-39 pre{padding: 0;}#sk-container-id-39 div.sk-toggleable {background-color: white;}#sk-container-id-39 label.sk-toggleable__label {cursor: pointer;display: block;width: 100%;margin-bottom: 0;padding: 0.3em;box-sizing: border-box;text-align: center;}#sk-container-id-39 label.sk-toggleable__label-arrow:before {content: \"▸\";float: left;margin-right: 0.25em;color: #696969;}#sk-container-id-39 label.sk-toggleable__label-arrow:hover:before {color: black;}#sk-container-id-39 div.sk-estimator:hover label.sk-toggleable__label-arrow:before {color: black;}#sk-container-id-39 div.sk-toggleable__content {max-height: 0;max-width: 0;overflow: hidden;text-align: left;background-color: #f0f8ff;}#sk-container-id-39 div.sk-toggleable__content pre {margin: 0.2em;color: black;border-radius: 0.25em;background-color: #f0f8ff;}#sk-container-id-39 input.sk-toggleable__control:checked~div.sk-toggleable__content {max-height: 200px;max-width: 100%;overflow: auto;}#sk-container-id-39 input.sk-toggleable__control:checked~label.sk-toggleable__label-arrow:before {content: \"▾\";}#sk-container-id-39 div.sk-estimator input.sk-toggleable__control:checked~label.sk-toggleable__label {background-color: #d4ebff;}#sk-container-id-39 div.sk-label input.sk-toggleable__control:checked~label.sk-toggleable__label {background-color: #d4ebff;}#sk-container-id-39 input.sk-hidden--visually {border: 0;clip: rect(1px 1px 1px 1px);clip: rect(1px, 1px, 1px, 1px);height: 1px;margin: -1px;overflow: hidden;padding: 0;position: absolute;width: 1px;}#sk-container-id-39 div.sk-estimator {font-family: monospace;background-color: #f0f8ff;border: 1px dotted black;border-radius: 0.25em;box-sizing: border-box;margin-bottom: 0.5em;}#sk-container-id-39 div.sk-estimator:hover {background-color: #d4ebff;}#sk-container-id-39 div.sk-parallel-item::after {content: \"\";width: 100%;border-bottom: 1px solid gray;flex-grow: 1;}#sk-container-id-39 div.sk-label:hover label.sk-toggleable__label {background-color: #d4ebff;}#sk-container-id-39 div.sk-serial::before {content: \"\";position: absolute;border-left: 1px solid gray;box-sizing: border-box;top: 0;bottom: 0;left: 50%;z-index: 0;}#sk-container-id-39 div.sk-serial {display: flex;flex-direction: column;align-items: center;background-color: white;padding-right: 0.2em;padding-left: 0.2em;position: relative;}#sk-container-id-39 div.sk-item {position: relative;z-index: 1;}#sk-container-id-39 div.sk-parallel {display: flex;align-items: stretch;justify-content: center;background-color: white;position: relative;}#sk-container-id-39 div.sk-item::before, #sk-container-id-39 div.sk-parallel-item::before {content: \"\";position: absolute;border-left: 1px solid gray;box-sizing: border-box;top: 0;bottom: 0;left: 50%;z-index: -1;}#sk-container-id-39 div.sk-parallel-item {display: flex;flex-direction: column;z-index: 1;position: relative;background-color: white;}#sk-container-id-39 div.sk-parallel-item:first-child::after {align-self: flex-end;width: 50%;}#sk-container-id-39 div.sk-parallel-item:last-child::after {align-self: flex-start;width: 50%;}#sk-container-id-39 div.sk-parallel-item:only-child::after {width: 0;}#sk-container-id-39 div.sk-dashed-wrapped {border: 1px dashed gray;margin: 0 0.4em 0.5em 0.4em;box-sizing: border-box;padding-bottom: 0.4em;background-color: white;}#sk-container-id-39 div.sk-label label {font-family: monospace;font-weight: bold;display: inline-block;line-height: 1.2em;}#sk-container-id-39 div.sk-label-container {text-align: center;}#sk-container-id-39 div.sk-container {/* jupyter's `normalize.less` sets `[hidden] { display: none; }` but bootstrap.min.css set `[hidden] { display: none !important; }` so we also need the `!important` here to be able to override the default hidden behavior on the sphinx rendered scikit-learn.org. See: https://github.com/scikit-learn/scikit-learn/issues/21755 */display: inline-block !important;position: relative;}#sk-container-id-39 div.sk-text-repr-fallback {display: none;}</style><div id=\"sk-container-id-39\" class=\"sk-top-container\"><div class=\"sk-text-repr-fallback\"><pre>XGBClassifier(base_score=0.5, booster=None, colsample_bylevel=1,\n",
       "              colsample_bynode=1, colsample_bytree=0.6, gamma=0, gpu_id=-1,\n",
       "              importance_type=&#x27;gain&#x27;, interaction_constraints=None,\n",
       "              learning_rate=0.06, max_delta_step=0, max_depth=5,\n",
       "              min_child_weight=1, missing=nan, monotone_constraints=None,\n",
       "              n_estimators=175, n_jobs=0, num_parallel_tree=1, random_state=0,\n",
       "              reg_alpha=0, reg_lambda=1, scale_pos_weight=1, silent=True,\n",
       "              subsample=0.6, tree_method=None, validate_parameters=False,\n",
       "              verbosity=None)</pre><b>In a Jupyter environment, please rerun this cell to show the HTML representation or trust the notebook. <br />On GitHub, the HTML representation is unable to render, please try loading this page with nbviewer.org.</b></div><div class=\"sk-container\" hidden><div class=\"sk-item\"><div class=\"sk-estimator sk-toggleable\"><input class=\"sk-toggleable__control sk-hidden--visually\" id=\"sk-estimator-id-51\" type=\"checkbox\" checked><label for=\"sk-estimator-id-51\" class=\"sk-toggleable__label sk-toggleable__label-arrow\">XGBClassifier</label><div class=\"sk-toggleable__content\"><pre>XGBClassifier(base_score=0.5, booster=None, colsample_bylevel=1,\n",
       "              colsample_bynode=1, colsample_bytree=0.6, gamma=0, gpu_id=-1,\n",
       "              importance_type=&#x27;gain&#x27;, interaction_constraints=None,\n",
       "              learning_rate=0.06, max_delta_step=0, max_depth=5,\n",
       "              min_child_weight=1, missing=nan, monotone_constraints=None,\n",
       "              n_estimators=175, n_jobs=0, num_parallel_tree=1, random_state=0,\n",
       "              reg_alpha=0, reg_lambda=1, scale_pos_weight=1, silent=True,\n",
       "              subsample=0.6, tree_method=None, validate_parameters=False,\n",
       "              verbosity=None)</pre></div></div></div></div></div>"
      ],
      "text/plain": [
       "XGBClassifier(base_score=0.5, booster=None, colsample_bylevel=1,\n",
       "              colsample_bynode=1, colsample_bytree=0.6, gamma=0, gpu_id=-1,\n",
       "              importance_type='gain', interaction_constraints=None,\n",
       "              learning_rate=0.06, max_delta_step=0, max_depth=5,\n",
       "              min_child_weight=1, missing=nan, monotone_constraints=None,\n",
       "              n_estimators=175, n_jobs=0, num_parallel_tree=1, random_state=0,\n",
       "              reg_alpha=0, reg_lambda=1, scale_pos_weight=1, silent=True,\n",
       "              subsample=0.6, tree_method=None, validate_parameters=False,\n",
       "              verbosity=None)"
      ]
     },
     "execution_count": 1098,
     "metadata": {},
     "output_type": "execute_result"
    }
   ],
   "source": [
    "best_xgb"
   ]
  },
  {
   "cell_type": "code",
   "execution_count": 1099,
   "id": "fafc18e3",
   "metadata": {},
   "outputs": [
    {
     "data": {
      "text/plain": [
       "0.8218029350104822"
      ]
     },
     "execution_count": 1099,
     "metadata": {},
     "output_type": "execute_result"
    }
   ],
   "source": [
    "best_xgb.score(X_test, y_test)"
   ]
  },
  {
   "cell_type": "markdown",
   "id": "87477bbe",
   "metadata": {},
   "source": [
    "# **Results Evaluation**"
   ]
  },
  {
   "cell_type": "code",
   "execution_count": 1100,
   "id": "7b0b809a",
   "metadata": {},
   "outputs": [],
   "source": [
    "from sklearn.metrics import roc_curve, roc_auc_score\n",
    "from sklearn.metrics import confusion_matrix, ConfusionMatrixDisplay\n",
    "from sklearn.metrics import auc"
   ]
  },
  {
   "cell_type": "code",
   "execution_count": 1101,
   "id": "7f72f77d",
   "metadata": {},
   "outputs": [],
   "source": [
    "def results(model):\n",
    "    \n",
    "    #variable data will store y, probability and y_pred\n",
    "    data = pd.DataFrame(y_test.copy())\n",
    "    data.rename(columns={'target': 'y'}, inplace=True)\n",
    "    data.reset_index(inplace=True)\n",
    "    data.drop(columns=['index'], inplace=True)\n",
    "    data['proba'] = model.predict_proba(X_test)[:, 1]\n",
    "    data['y_pred'] = model.predict(X_test)\n",
    "    print(data.head())\n",
    "    print()\n",
    "    \n",
    "    #classification report\n",
    "    print('Classification Report')\n",
    "    cm = confusion_matrix(data['y'], data['y_pred'])\n",
    "    print(cm)\n",
    "    ConfusionMatrixDisplay(cm).plot()\n",
    "    plt.show()\n",
    "    print()\n",
    "    \n",
    "    # Accuracy\n",
    "    acc = np.diag(cm).sum()/cm.sum()\n",
    "    print('Accuracy = ', acc)\n",
    "\n",
    "    #ROC AUC curve\n",
    "    fpr, tpr, thres = roc_curve(data['y'], data['proba'])\n",
    "    plt.xlabel('FPR')\n",
    "    plt.ylabel('TPR')\n",
    "    plt.plot(fpr, tpr)\n",
    "    plt.title(\"ROC curve\")\n",
    "    plt.show()\n",
    "    \n",
    "    #ROC AUC Score\n",
    "    score = roc_auc_score(data['y'], data['proba'])\n",
    "    print('ROC AUC Score', score)\n",
    "    \n",
    "    return(data)\n",
    "    "
   ]
  },
  {
   "cell_type": "markdown",
   "id": "dceb1505",
   "metadata": {},
   "source": [
    "## **Classification Report and ROC AUC curve**"
   ]
  },
  {
   "cell_type": "markdown",
   "id": "d0cf91a8",
   "metadata": {},
   "source": [
    "#### **1. Decision Tree**"
   ]
  },
  {
   "cell_type": "code",
   "execution_count": 1102,
   "id": "b64eab9d",
   "metadata": {},
   "outputs": [
    {
     "name": "stdout",
     "output_type": "stream",
     "text": [
      "   y     proba  y_pred\n",
      "0  0  0.687500       1\n",
      "1  1  0.887133       1\n",
      "2  1  0.887133       1\n",
      "3  1  0.116473       0\n",
      "4  0  0.895028       1\n",
      "\n",
      "Classification Report\n",
      "[[ 83  65]\n",
      " [ 30 299]]\n"
     ]
    },
    {
     "data": {
      "image/png": "[encoded data removed]",
      "text/plain": [
       "<Figure size 432x288 with 2 Axes>"
      ]
     },
     "metadata": {
      "needs_background": "light"
     },
     "output_type": "display_data"
    },
    {
     "name": "stdout",
     "output_type": "stream",
     "text": [
      "\n",
      "Accuracy =  0.80083857442348\n"
     ]
    },
    {
     "data": {
      "image/png": "[encoded data removed]",
      "text/plain": [
       "<Figure size 432x288 with 1 Axes>"
      ]
     },
     "metadata": {
      "needs_background": "light"
     },
     "output_type": "display_data"
    },
    {
     "name": "stdout",
     "output_type": "stream",
     "text": [
      "ROC AUC Score 0.7945863796927626\n"
     ]
    }
   ],
   "source": [
    "## Decision Tree\n",
    "\n",
    "dt_pred = results(dtc_model)"
   ]
  },
  {
   "cell_type": "markdown",
   "id": "0229ac7f",
   "metadata": {},
   "source": [
    "#### **2. Random Forest**"
   ]
  },
  {
   "cell_type": "code",
   "execution_count": 1103,
   "id": "ab21b7f1",
   "metadata": {},
   "outputs": [
    {
     "name": "stdout",
     "output_type": "stream",
     "text": [
      "   y     proba  y_pred\n",
      "0  0  0.714075       1\n",
      "1  1  0.786600       1\n",
      "2  1  0.801212       1\n",
      "3  1  0.373270       0\n",
      "4  0  0.684801       1\n",
      "\n",
      "Classification Report\n",
      "[[ 94  54]\n",
      " [ 32 297]]\n"
     ]
    },
    {
     "data": {
      "image/png": "[encoded data removed]",
      "text/plain": [
       "<Figure size 432x288 with 2 Axes>"
      ]
     },
     "metadata": {
      "needs_background": "light"
     },
     "output_type": "display_data"
    },
    {
     "name": "stdout",
     "output_type": "stream",
     "text": [
      "\n",
      "Accuracy =  0.8197064989517819\n"
     ]
    },
    {
     "data": {
      "image/png": "[encoded data removed]",
      "text/plain": [
       "<Figure size 432x288 with 1 Axes>"
      ]
     },
     "metadata": {
      "needs_background": "light"
     },
     "output_type": "display_data"
    },
    {
     "name": "stdout",
     "output_type": "stream",
     "text": [
      "ROC AUC Score 0.829273802678058\n"
     ]
    }
   ],
   "source": [
    "## Random Forest\n",
    "\n",
    "rf_pred = results(rf)"
   ]
  },
  {
   "cell_type": "markdown",
   "id": "c41fbf99",
   "metadata": {},
   "source": [
    "#### **3. Gradient Boost**"
   ]
  },
  {
   "cell_type": "code",
   "execution_count": 1104,
   "id": "4c3a47f0",
   "metadata": {},
   "outputs": [
    {
     "name": "stdout",
     "output_type": "stream",
     "text": [
      "   y     proba  y_pred\n",
      "0  0  0.955869       1\n",
      "1  1  0.961343       1\n",
      "2  1  0.967639       1\n",
      "3  1  0.874478       1\n",
      "4  0  0.929648       1\n",
      "\n",
      "Classification Report\n",
      "[[ 96  52]\n",
      " [ 43 286]]\n"
     ]
    },
    {
     "data": {
      "image/png": "[encoded data removed]",
      "text/plain": [
       "<Figure size 432x288 with 2 Axes>"
      ]
     },
     "metadata": {
      "needs_background": "light"
     },
     "output_type": "display_data"
    },
    {
     "name": "stdout",
     "output_type": "stream",
     "text": [
      "\n",
      "Accuracy =  0.80083857442348\n"
     ]
    },
    {
     "data": {
      "image/png": "[encoded data removed]",
      "text/plain": [
       "<Figure size 432x288 with 1 Axes>"
      ]
     },
     "metadata": {
      "needs_background": "light"
     },
     "output_type": "display_data"
    },
    {
     "name": "stdout",
     "output_type": "stream",
     "text": [
      "ROC AUC Score 0.8411443358251869\n"
     ]
    }
   ],
   "source": [
    "## Gradient Boost\n",
    "\n",
    "gbc_pred = results(gbc)"
   ]
  },
  {
   "cell_type": "markdown",
   "id": "c647afeb",
   "metadata": {},
   "source": [
    "#### **4. XGBoost**"
   ]
  },
  {
   "cell_type": "code",
   "execution_count": 1106,
   "id": "63250df6",
   "metadata": {},
   "outputs": [
    {
     "name": "stdout",
     "output_type": "stream",
     "text": [
      "   y     proba  y_pred\n",
      "0  0  0.842263       1\n",
      "1  1  0.921066       1\n",
      "2  1  0.778124       1\n",
      "3  1  0.701307       1\n",
      "4  0  0.915280       1\n",
      "\n",
      "Classification Report\n",
      "[[ 92  56]\n",
      " [ 29 300]]\n"
     ]
    },
    {
     "data": {
      "image/png": "[encoded data removed]",
      "text/plain": [
       "<Figure size 432x288 with 2 Axes>"
      ]
     },
     "metadata": {
      "needs_background": "light"
     },
     "output_type": "display_data"
    },
    {
     "name": "stdout",
     "output_type": "stream",
     "text": [
      "\n",
      "Accuracy =  0.8218029350104822\n"
     ]
    },
    {
     "data": {
      "image/png": "[encoded data removed]",
      "text/plain": [
       "<Figure size 432x288 with 1 Axes>"
      ]
     },
     "metadata": {
      "needs_background": "light"
     },
     "output_type": "display_data"
    },
    {
     "name": "stdout",
     "output_type": "stream",
     "text": [
      "ROC AUC Score 0.8355582025794792\n"
     ]
    }
   ],
   "source": [
    "## XGBoost\n",
    "\n",
    "xgb_pred = results(best_xgb)"
   ]
  },
  {
   "cell_type": "markdown",
   "id": "02aa0928",
   "metadata": {},
   "source": [
    "### **Results**\n",
    "\n",
    "1. Decision Tree\n",
    "    - Accuarcy: 80.08%\n",
    "    - ROC AUC Score: 79.46%\n",
    "<br>\n",
    "2. Random Forest\n",
    "    - Accuarcy: 81.97%\n",
    "    - ROC AUC Score: 82.93%\n",
    "<br>\n",
    "3. Gradient Boost\n",
    "    - Accuarcy: 80.08%\n",
    "    - ROC AUC Score: 84.11\n",
    "<br>\n",
    "4. XGBoost\n",
    "    - Accuarcy: 82.18%\n",
    "    - ROC AUC Score: 83.56%"
   ]
  },
  {
   "cell_type": "markdown",
   "id": "89def7e8",
   "metadata": {},
   "source": [
    "# **Actionable Insights**\n",
    "\n",
    "\n",
    "1. Joining designation has some impact on churning and people with a designation 3 tend to leave less compared to other designations<br><br>\n",
    "2. Grade has a high impact on churning as over 80% of the drivers with a grade of 1 leave the company whereas only 50-55% of the drivers with a grade of 3 or above left<br><br>\n",
    "3. The quarterly rating has the highest impact on predicting churn as only 18% of the people with a rating of 1 stay while 80-90% with a rating of 3 or 4 stay<br><br>\n",
    "4. Churning is the highest in cities C13, C17, and C23 and the lowest in city C29<br><br>\n",
    "5. Based on models, features having the highest impact on prediction are Quarterly Rating, Joining Designation, and Grade<br><br>\n",
    "6. The average income of those who stay is significantly higher than that of those drivers who leave the company"
   ]
  },
  {
   "cell_type": "markdown",
   "id": "28482b5f",
   "metadata": {},
   "source": [
    "# **Recommendations**\n",
    "\n",
    "1. Providing a grade of 3 or above will help reduce the churn rate as the percentage of drivers leaving the company is highest among those who have a grade of 1 or 2<br><br>\n",
    "2. The majority of the drivers have a joining designation of 1, 2 or 3 so, going liberal with the designation could help retain more drivers as those who have a designation of 3 have the least churn rate<br><br>\n",
    "3. Incentives can be arranged based on the quarterly rating of a driver as it is the single most important feature determining whether a person is going to leave or stay<br><br>\n",
    "4. A greater percentage of commission or bonuses can be given to drivers who are based in cities C13, C17, and C29 as these are the cities having the highest churn rate<br><br>\n",
    "5. As expected, those who generate more income stay for a longer time hence, providing more commission or a good revenue sharing model will help retain drivers"
   ]
  },
  {
   "cell_type": "code",
   "execution_count": null,
   "id": "cf5c1f56",
   "metadata": {},
   "outputs": [],
   "source": []
  }
 ],
 "metadata": {
  "kernelspec": {
   "display_name": "Python 3 (ipykernel)",
   "language": "python",
   "name": "python3"
  },
  "language_info": {
   "codemirror_mode": {
    "name": "ipython",
    "version": 3
   },
   "file_extension": ".py",
   "mimetype": "text/x-python",
   "name": "python",
   "nbconvert_exporter": "python",
   "pygments_lexer": "ipython3",
   "version": "3.8.10"
  }
 },
 "nbformat": 4,
 "nbformat_minor": 5
}
